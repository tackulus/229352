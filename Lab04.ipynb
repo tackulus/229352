{
  "nbformat": 4,
  "nbformat_minor": 0,
  "metadata": {
    "colab": {
      "name": "Lab04.ipynb",
      "provenance": [],
      "collapsed_sections": [],
      "authorship_tag": "ABX9TyMNWe2dRY+ccKQc9LNqz+wj",
      "include_colab_link": true
    },
    "kernelspec": {
      "name": "python3",
      "display_name": "Python 3"
    },
    "language_info": {
      "name": "python"
    }
  },
  "cells": [
    {
      "cell_type": "markdown",
      "metadata": {
        "id": "view-in-github",
        "colab_type": "text"
      },
      "source": [
        "<a href=\"https://colab.research.google.com/github/tackulus/229352/blob/main/Lab04.ipynb\" target=\"_parent\"><img src=\"https://colab.research.google.com/assets/colab-badge.svg\" alt=\"Open In Colab\"/></a>"
      ]
    },
    {
      "cell_type": "markdown",
      "metadata": {
        "id": "VoCtgQX5x6PK"
      },
      "source": [
        "## **Lab 04**\n",
        "\n",
        "---\n",
        "\n",
        "> **229352 Statistical Learning for Data Science 2**\n",
        "\n",
        "> **Kasidis Torcharoen (610510531)**"
      ]
    },
    {
      "cell_type": "code",
      "metadata": {
        "id": "Q2KR1Grmzph7"
      },
      "source": [
        "import numpy as np\n",
        "from sklearn import datasets \n",
        "mnist = datasets.load_digits()"
      ],
      "execution_count": 1,
      "outputs": []
    },
    {
      "cell_type": "markdown",
      "metadata": {
        "id": "JVOvHFW8xpN5"
      },
      "source": [
        "**First, normalized the dataset to avoid numeric overflow.**"
      ]
    },
    {
      "cell_type": "code",
      "metadata": {
        "id": "_b5q2lf6z5eH"
      },
      "source": [
        "from sklearn.preprocessing import StandardScaler\n",
        "scaler = StandardScaler()\n",
        "X = scaler.fit_transform(mnist.data)\n",
        "y = mnist.target"
      ],
      "execution_count": 2,
      "outputs": []
    },
    {
      "cell_type": "markdown",
      "metadata": {
        "id": "im4Pd64Vxo8G"
      },
      "source": [
        "**Then perform the following experiments:**\n",
        "\n",
        "**1. In the first experiment, we will compare run time of the primal and dual optimization problems in S**\n",
        "\n",
        "> **(a) For k ∈ {0, 5, 10, 15, 20, 25}, remove the first and the last k columns (features) from the dataset and perform the following steps:**\n",
        "\n",
        "> **(b) Train an SVM model using sklearn.svm.LinearSVC method twice: one using the primal form and another using the dual form. This can be done by setting the model’s parameter dual to False and True, respectively. Also, set the max_iter parameter (maximum number of optimization steps) to be 10^7 to prevent any convergence warning**\n",
        "\n",
        "> **(c) Measure the training times of both primal and dual form SVM. To measure the elapsed time in Python.**"
      ]
    },
    {
      "cell_type": "code",
      "metadata": {
        "id": "netDVujZs_Ma"
      },
      "source": [
        "from sklearn.svm import LinearSVC\n",
        "from time import time\n",
        "\n",
        "primal, dual = {}, {}\n",
        "for k in range(0, 26, 5):\n",
        "    if k == 0: Xk = X\n",
        "    else: Xk = X[:, k:-k]\n",
        "    for timer, b in zip([primal, dual], [False, True]):\n",
        "        clf = LinearSVC( dual=b, max_iter=10**7 )\n",
        "        start = time()\n",
        "        clf.fit(Xk, y)\n",
        "        end = time()\n",
        "        timer[ X.shape[1] - 2 * k ] = end - start"
      ],
      "execution_count": 3,
      "outputs": []
    },
    {
      "cell_type": "markdown",
      "metadata": {
        "id": "4otPU7BbzEgo"
      },
      "source": [
        "**After you have done the above steps for all k, make plots of “# of features” vs “training time” for the primal form and the dual form. If someone asks you whether they should use the primal or dual form to train on their data, what would your answer be?**"
      ]
    },
    {
      "cell_type": "code",
      "metadata": {
        "colab": {
          "base_uri": "https://localhost:8080/",
          "height": 388
        },
        "id": "Q4xCcpQQuwkV",
        "outputId": "558ae861-d2a3-41c9-f7ed-490842f41cb8"
      },
      "source": [
        "import matplotlib.pyplot as plt\n",
        "\n",
        "fig = plt.figure(figsize=(8, 6))\n",
        "\n",
        "for timer in [primal, dual]:\n",
        "    plt.plot( *zip( *sorted(timer.items()) ), marker='o')\n",
        "\n",
        "plt.legend([\"primal\", \"dual\"])\n",
        "plt.xlabel(\"# of features\")\n",
        "plt.ylabel(\"training time (second)\")\n",
        "plt.grid()\n",
        "plt.show()"
      ],
      "execution_count": 4,
      "outputs": [
        {
          "output_type": "display_data",
          "data": {
            "image/png": "[encoded data removed]",
            "text/plain": [
              "<Figure size 576x432 with 1 Axes>"
            ]
          },
          "metadata": {
            "tags": [],
            "needs_background": "light"
          }
        }
      ]
    },
    {
      "cell_type": "code",
      "metadata": {
        "id": "_NpGQmanv4iQ",
        "colab": {
          "base_uri": "https://localhost:8080/"
        },
        "outputId": "6206b9d0-6b57-4efd-9c75-3ca167de022f"
      },
      "source": [
        "X.shape"
      ],
      "execution_count": 5,
      "outputs": [
        {
          "output_type": "execute_result",
          "data": {
            "text/plain": [
              "(1797, 64)"
            ]
          },
          "metadata": {
            "tags": []
          },
          "execution_count": 5
        }
      ]
    },
    {
      "cell_type": "markdown",
      "metadata": {
        "id": "GlM_mGHZvvEF"
      },
      "source": [
        "> The number of samples (1797) is more than the number of features (64), so I suggest to use the primal form."
      ]
    },
    {
      "cell_type": "markdown",
      "metadata": {
        "id": "hjY7_FdWzIYc"
      },
      "source": [
        "**2. In the second experiment, we will study the relationships between the support vectors, the primal coefficient (w) and the dual coefficient (αi) in an SVM model.**\n",
        "\n",
        "> **(a) From the (normalized) mini MNIST dataset, pick any two labels and train an SVM model using sklearn.svm.SVC on the data with those two labels.**"
      ]
    },
    {
      "cell_type": "code",
      "metadata": {
        "id": "K8NZrTAbxW3N",
        "colab": {
          "base_uri": "https://localhost:8080/"
        },
        "outputId": "dfd625cd-a098-4124-f7e1-94d4828d5d77"
      },
      "source": [
        "from sklearn.svm import SVC\n",
        "\n",
        "k1, k2 = np.random.choice(mnist.target_names, size=2, replace=False)\n",
        "index = np.where(y == k1)[0].tolist() + np.where(y == k2)[0].tolist()\n",
        "index = sorted(index)\n",
        "Xk, yk = X[index], y[index]\n",
        "clf = SVC(kernel='linear')\n",
        "clf.fit(Xk, yk)"
      ],
      "execution_count": 6,
      "outputs": [
        {
          "output_type": "execute_result",
          "data": {
            "text/plain": [
              "SVC(C=1.0, break_ties=False, cache_size=200, class_weight=None, coef0=0.0,\n",
              "    decision_function_shape='ovr', degree=3, gamma='scale', kernel='linear',\n",
              "    max_iter=-1, probability=False, random_state=None, shrinking=True,\n",
              "    tol=0.001, verbose=False)"
            ]
          },
          "metadata": {
            "tags": []
          },
          "execution_count": 6
        }
      ]
    },
    {
      "cell_type": "markdown",
      "metadata": {
        "id": "62JhZ78QzQzy"
      },
      "source": [
        "> **(b) How many support vectors does your model have? You can check the list of all support vectors by calling the attribute support vectors from your trained model.**"
      ]
    },
    {
      "cell_type": "code",
      "metadata": {
        "id": "q9c2eQULzMqL",
        "colab": {
          "base_uri": "https://localhost:8080/"
        },
        "outputId": "2bf03909-392a-4343-82c4-4689fbd9aad7"
      },
      "source": [
        "len(clf.support_vectors_)"
      ],
      "execution_count": 7,
      "outputs": [
        {
          "output_type": "execute_result",
          "data": {
            "text/plain": [
              "27"
            ]
          },
          "metadata": {
            "tags": []
          },
          "execution_count": 7
        }
      ]
    },
    {
      "cell_type": "markdown",
      "metadata": {
        "id": "awpXXAfgzXUE"
      },
      "source": [
        "> **(c) What is the relationship between the hyperparameter C and the number of support vectors? You might want to start with a small value of C such as 0.001. Can you give an explanation for this relationship?**"
      ]
    },
    {
      "cell_type": "code",
      "metadata": {
        "id": "M7VNtffGxddW"
      },
      "source": [
        "count = {}\n",
        "for c in np.arange(0.001, 1.001, 0.001):\n",
        "    clfx = SVC(C=c, kernel=\"linear\")\n",
        "    clfx.fit(Xk, yk)\n",
        "    count[c] = len(clfx.support_vectors_)"
      ],
      "execution_count": 8,
      "outputs": []
    },
    {
      "cell_type": "code",
      "metadata": {
        "id": "UWO4ZJ0N0mPz",
        "colab": {
          "base_uri": "https://localhost:8080/",
          "height": 388
        },
        "outputId": "7d27c6e8-bb00-44be-f56f-0a6ea2c36afb"
      },
      "source": [
        "fig = plt.figure(figsize=(8, 6))\n",
        "plt.plot( *zip( *sorted(count.items()) ) )\n",
        "\n",
        "plt.xlabel(\"hyperparameter : C\")\n",
        "plt.ylabel(\"number of support vectors\")\n",
        "plt.grid()\n",
        "plt.show()"
      ],
      "execution_count": 9,
      "outputs": [
        {
          "output_type": "display_data",
          "data": {
            "image/png": "[encoded data removed]",
            "text/plain": [
              "<Figure size 576x432 with 1 Axes>"
            ]
          },
          "metadata": {
            "tags": [],
            "needs_background": "light"
          }
        }
      ]
    },
    {
      "cell_type": "markdown",
      "metadata": {
        "id": "g707rvznImxc"
      },
      "source": [
        "> The hyperparameter C and the number of support vectors have negative relationship."
      ]
    },
    {
      "cell_type": "markdown",
      "metadata": {
        "id": "-EqlLFuCJXZV"
      },
      "source": [
        "> **(d)  By  default,  your  model  has  been  trained  with  the  dual  form. Verify the SVM’s vector of coefficients formula by calling the following attributes from your trained model and check if the left-hand side of (4.1) is equal to the right-hand side.**"
      ]
    },
    {
      "cell_type": "code",
      "metadata": {
        "id": "EK0XEAvGrTTS",
        "outputId": "062a71b7-5781-46bf-aee7-92becc96f8ec",
        "colab": {
          "base_uri": "https://localhost:8080/"
        }
      },
      "source": [
        "boo = clf.coef_ == clf.dual_coef_ @ clf.support_vectors_\n",
        "boo.all()"
      ],
      "execution_count": 10,
      "outputs": [
        {
          "output_type": "execute_result",
          "data": {
            "text/plain": [
              "True"
            ]
          },
          "metadata": {
            "tags": []
          },
          "execution_count": 10
        }
      ]
    }
  ]
}