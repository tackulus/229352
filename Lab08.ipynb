{
  "nbformat": 4,
  "nbformat_minor": 0,
  "metadata": {
    "colab": {
      "name": "Lab08.ipynb",
      "provenance": [],
      "collapsed_sections": [],
      "authorship_tag": "ABX9TyN2dq176erIP/FEe+wLTD9Z",
      "include_colab_link": true
    },
    "kernelspec": {
      "name": "python3",
      "display_name": "Python 3"
    },
    "language_info": {
      "name": "python"
    },
    "accelerator": "GPU"
  },
  "cells": [
    {
      "cell_type": "markdown",
      "metadata": {
        "id": "view-in-github",
        "colab_type": "text"
      },
      "source": [
        "<a href=\"https://colab.research.google.com/github/tackulus/229352/blob/main/Lab08.ipynb\" target=\"_parent\"><img src=\"https://colab.research.google.com/assets/colab-badge.svg\" alt=\"Open In Colab\"/></a>"
      ]
    },
    {
      "cell_type": "markdown",
      "metadata": {
        "id": "bUK5Xhf7y1cK"
      },
      "source": [
        "## **Lab 08**\n",
        "\n",
        "---\n",
        "\n",
        "> **229352 Statistical Learning for Data Science 2**\n",
        "\n",
        "> **Kasidis Torcharoen (610510531)**"
      ]
    },
    {
      "cell_type": "code",
      "metadata": {
        "id": "zk1oK0dtL0Kd",
        "colab": {
          "base_uri": "https://localhost:8080/"
        },
        "outputId": "5a48faa2-b160-4346-8f67-bec6c82ede42"
      },
      "source": [
        "!git clone https://github.com/tackulus/229352.git"
      ],
      "execution_count": 2,
      "outputs": [
        {
          "output_type": "stream",
          "name": "stdout",
          "text": [
            "Cloning into '229352'...\n",
            "remote: Enumerating objects: 99, done.\u001b[K\n",
            "remote: Counting objects: 100% (99/99), done.\u001b[K\n",
            "remote: Compressing objects: 100% (96/96), done.\u001b[K\n",
            "remote: Total 99 (delta 41), reused 0 (delta 0), pack-reused 0\u001b[K\n",
            "Unpacking objects: 100% (99/99), done.\n"
          ]
        }
      ]
    },
    {
      "cell_type": "code",
      "metadata": {
        "id": "W83BPbc-zzDo"
      },
      "source": [
        "import numpy as np\n",
        "import pandas as pd\n",
        "import tensorflow as tf"
      ],
      "execution_count": 88,
      "outputs": []
    },
    {
      "cell_type": "code",
      "metadata": {
        "colab": {
          "base_uri": "https://localhost:8080/",
          "height": 226
        },
        "id": "m17TTajpz4Y4",
        "outputId": "070ca23e-9b3b-4347-9915-9f32ad19ea9c"
      },
      "source": [
        "data = pd.read_csv(\"/content/229352/dataset/chiang_mai_1998-2019.csv\")\n",
        "data.head()"
      ],
      "execution_count": 113,
      "outputs": [
        {
          "output_type": "execute_result",
          "data": {
            "text/html": [
              "<div>\n",
              "<style scoped>\n",
              "    .dataframe tbody tr th:only-of-type {\n",
              "        vertical-align: middle;\n",
              "    }\n",
              "\n",
              "    .dataframe tbody tr th {\n",
              "        vertical-align: top;\n",
              "    }\n",
              "\n",
              "    .dataframe thead th {\n",
              "        text-align: right;\n",
              "    }\n",
              "</style>\n",
              "<table border=\"1\" class=\"dataframe\">\n",
              "  <thead>\n",
              "    <tr style=\"text-align: right;\">\n",
              "      <th></th>\n",
              "      <th>Date</th>\n",
              "      <th>MaximumPressure</th>\n",
              "      <th>MinimumPressure</th>\n",
              "      <th>MaximumTemperature</th>\n",
              "      <th>MinimumTemperature</th>\n",
              "      <th>MaximumRelativeHumidity</th>\n",
              "      <th>MinimumRelativeHumidity</th>\n",
              "      <th>Precipitation</th>\n",
              "      <th>TotalEvaporation</th>\n",
              "      <th>SunshineDuration</th>\n",
              "      <th>WindDirection</th>\n",
              "      <th>WindSpeed</th>\n",
              "    </tr>\n",
              "  </thead>\n",
              "  <tbody>\n",
              "    <tr>\n",
              "      <th>0</th>\n",
              "      <td>1998-01-01</td>\n",
              "      <td>1016.3</td>\n",
              "      <td>1010.9</td>\n",
              "      <td>30.6</td>\n",
              "      <td>15.6</td>\n",
              "      <td>96</td>\n",
              "      <td>39</td>\n",
              "      <td>0.0</td>\n",
              "      <td>3.55</td>\n",
              "      <td>8.3</td>\n",
              "      <td>30</td>\n",
              "      <td>4.629996</td>\n",
              "    </tr>\n",
              "    <tr>\n",
              "      <th>1</th>\n",
              "      <td>1998-01-02</td>\n",
              "      <td>1017.0</td>\n",
              "      <td>1011.9</td>\n",
              "      <td>32.0</td>\n",
              "      <td>14.8</td>\n",
              "      <td>96</td>\n",
              "      <td>34</td>\n",
              "      <td>0.0</td>\n",
              "      <td>1.56</td>\n",
              "      <td>8.9</td>\n",
              "      <td>350</td>\n",
              "      <td>5.658884</td>\n",
              "    </tr>\n",
              "    <tr>\n",
              "      <th>2</th>\n",
              "      <td>1998-01-03</td>\n",
              "      <td>1017.3</td>\n",
              "      <td>1011.6</td>\n",
              "      <td>31.6</td>\n",
              "      <td>14.9</td>\n",
              "      <td>97</td>\n",
              "      <td>37</td>\n",
              "      <td>0.0</td>\n",
              "      <td>5.83</td>\n",
              "      <td>8.9</td>\n",
              "      <td>190</td>\n",
              "      <td>9.774436</td>\n",
              "    </tr>\n",
              "    <tr>\n",
              "      <th>3</th>\n",
              "      <td>1998-01-04</td>\n",
              "      <td>1018.0</td>\n",
              "      <td>1012.3</td>\n",
              "      <td>32.1</td>\n",
              "      <td>14.2</td>\n",
              "      <td>93</td>\n",
              "      <td>36</td>\n",
              "      <td>0.0</td>\n",
              "      <td>3.55</td>\n",
              "      <td>8.8</td>\n",
              "      <td>70</td>\n",
              "      <td>5.658884</td>\n",
              "    </tr>\n",
              "    <tr>\n",
              "      <th>4</th>\n",
              "      <td>1998-01-05</td>\n",
              "      <td>1017.7</td>\n",
              "      <td>1012.3</td>\n",
              "      <td>31.2</td>\n",
              "      <td>14.8</td>\n",
              "      <td>94</td>\n",
              "      <td>49</td>\n",
              "      <td>0.0</td>\n",
              "      <td>2.75</td>\n",
              "      <td>7.9</td>\n",
              "      <td>230</td>\n",
              "      <td>5.658884</td>\n",
              "    </tr>\n",
              "  </tbody>\n",
              "</table>\n",
              "</div>"
            ],
            "text/plain": [
              "         Date  MaximumPressure  ...  WindDirection  WindSpeed\n",
              "0  1998-01-01           1016.3  ...             30   4.629996\n",
              "1  1998-01-02           1017.0  ...            350   5.658884\n",
              "2  1998-01-03           1017.3  ...            190   9.774436\n",
              "3  1998-01-04           1018.0  ...             70   5.658884\n",
              "4  1998-01-05           1017.7  ...            230   5.658884\n",
              "\n",
              "[5 rows x 12 columns]"
            ]
          },
          "metadata": {},
          "execution_count": 113
        }
      ]
    },
    {
      "cell_type": "code",
      "metadata": {
        "colab": {
          "base_uri": "https://localhost:8080/"
        },
        "id": "7XAarZ0qwIJd",
        "outputId": "3f221eba-be32-4eea-c2c2-104a4fa55e5a"
      },
      "source": [
        "data.shape"
      ],
      "execution_count": 114,
      "outputs": [
        {
          "output_type": "execute_result",
          "data": {
            "text/plain": [
              "(7882, 12)"
            ]
          },
          "metadata": {},
          "execution_count": 114
        }
      ]
    },
    {
      "cell_type": "markdown",
      "metadata": {
        "id": "1GgIxS_g6HXN"
      },
      "source": [
        "1. Encode the row index into sine and cosine features with one-year cycle (note: one year consists of 365.25 days in this context) with the following transformation."
      ]
    },
    {
      "cell_type": "code",
      "metadata": {
        "colab": {
          "base_uri": "https://localhost:8080/"
        },
        "id": "OtWtmdVV1bqt",
        "outputId": "f731b04d-4572-4359-8cd1-70ec6ca7fe1b"
      },
      "source": [
        "data['CosIndex'] = np.cos(2 * np.pi * data.index / 365.25)\n",
        "data['SinIndex'] = np.sin(2 * np.pi * data.index / 365.25)\n",
        "data.shape"
      ],
      "execution_count": 115,
      "outputs": [
        {
          "output_type": "execute_result",
          "data": {
            "text/plain": [
              "(7882, 14)"
            ]
          },
          "metadata": {},
          "execution_count": 115
        }
      ]
    },
    {
      "cell_type": "markdown",
      "metadata": {
        "id": "KTS7XZFC6Mhf"
      },
      "source": [
        "2. Transform the wind speed (r) and wind direction (θ,0≤θ≤359) into rectangular coordinates."
      ]
    },
    {
      "cell_type": "code",
      "metadata": {
        "colab": {
          "base_uri": "https://localhost:8080/"
        },
        "id": "08oYfLnG2O2L",
        "outputId": "b8bef9af-beec-483f-c3f9-e5bfceec8e24"
      },
      "source": [
        "data['WindX'] = data.WindSpeed * np.cos(2 * np.pi * data.WindDirection / 360)\n",
        "data['WindY'] = data.WindSpeed * np.sin(2 * np.pi * data.WindDirection / 360)\n",
        "data.drop(columns=['WindDirection', 'WindSpeed'], inplace=True)\n",
        "data.shape"
      ],
      "execution_count": 116,
      "outputs": [
        {
          "output_type": "execute_result",
          "data": {
            "text/plain": [
              "(7882, 14)"
            ]
          },
          "metadata": {},
          "execution_count": 116
        }
      ]
    },
    {
      "cell_type": "markdown",
      "metadata": {
        "id": "JsKWp2D3TM7x"
      },
      "source": [
        "3.  Split the data\n",
        "    - Training set : 1998-01-01 to 2013-12-31\n",
        "    - Validation set : 2014-01-01 to 2016-12-31\n",
        "    - Test set : 2017-01-01 to 2019-07-31"
      ]
    },
    {
      "cell_type": "code",
      "metadata": {
        "colab": {
          "base_uri": "https://localhost:8080/"
        },
        "id": "4chwQZAE2eAT",
        "outputId": "a59d6f88-3e6f-47aa-cbd7-f482cf75418c"
      },
      "source": [
        "copy = data.astype({'Date': 'datetime64'})\n",
        "copy.set_index('Date', inplace=True)\n",
        "train = copy['1998-01-01':'2013-12-31']\n",
        "valid = copy['2014-01-01':'2016-12-31']\n",
        "test  = copy['2017-01-01':'2019-07-31']\n",
        "for df in [train, valid, test, copy]: \n",
        "    df.reset_index(drop=True, inplace=True)\n",
        "\n",
        "train.shape, valid.shape, test.shape"
      ],
      "execution_count": 122,
      "outputs": [
        {
          "output_type": "execute_result",
          "data": {
            "text/plain": [
              "((5844, 13), (1096, 13), (942, 13))"
            ]
          },
          "metadata": {},
          "execution_count": 122
        }
      ]
    },
    {
      "cell_type": "markdown",
      "metadata": {
        "id": "VyW-b3AC6ahG"
      },
      "source": [
        "4. Normalize the training set using sklearn.preprocessing.StandardScaler, then use the fitted scaler to normalize the validation and the test set."
      ]
    },
    {
      "cell_type": "code",
      "metadata": {
        "id": "fZgUtvyv31zf"
      },
      "source": [
        "from sklearn.preprocessing import StandardScaler\n",
        "\n",
        "scaler = StandardScaler().fit(train)\n",
        "\n",
        "train = scaler.transform(train)\n",
        "train = pd.DataFrame(train)\n",
        "train.columns = copy.columns\n",
        "\n",
        "valid = scaler.transform(valid)\n",
        "valid = pd.DataFrame(valid)\n",
        "valid.columns = copy.columns\n",
        "\n",
        "test = scaler.transform(test)\n",
        "test = pd.DataFrame(test)\n",
        "test.columns = copy.columns"
      ],
      "execution_count": 123,
      "outputs": []
    },
    {
      "cell_type": "code",
      "metadata": {
        "colab": {
          "base_uri": "https://localhost:8080/",
          "height": 444
        },
        "id": "dRG02j8wsSE7",
        "outputId": "2f6908e6-d01e-4f47-9a0b-abca5cd647dd"
      },
      "source": [
        "test"
      ],
      "execution_count": 127,
      "outputs": [
        {
          "output_type": "execute_result",
          "data": {
            "text/html": [
              "<div>\n",
              "<style scoped>\n",
              "    .dataframe tbody tr th:only-of-type {\n",
              "        vertical-align: middle;\n",
              "    }\n",
              "\n",
              "    .dataframe tbody tr th {\n",
              "        vertical-align: top;\n",
              "    }\n",
              "\n",
              "    .dataframe thead th {\n",
              "        text-align: right;\n",
              "    }\n",
              "</style>\n",
              "<table border=\"1\" class=\"dataframe\">\n",
              "  <thead>\n",
              "    <tr style=\"text-align: right;\">\n",
              "      <th></th>\n",
              "      <th>MaximumPressure</th>\n",
              "      <th>MinimumPressure</th>\n",
              "      <th>MaximumTemperature</th>\n",
              "      <th>MinimumTemperature</th>\n",
              "      <th>MaximumRelativeHumidity</th>\n",
              "      <th>MinimumRelativeHumidity</th>\n",
              "      <th>Precipitation</th>\n",
              "      <th>TotalEvaporation</th>\n",
              "      <th>SunshineDuration</th>\n",
              "      <th>CosIndex</th>\n",
              "      <th>SinIndex</th>\n",
              "      <th>WindX</th>\n",
              "      <th>WindY</th>\n",
              "    </tr>\n",
              "  </thead>\n",
              "  <tbody>\n",
              "    <tr>\n",
              "      <th>0</th>\n",
              "      <td>2.176661</td>\n",
              "      <td>1.731829</td>\n",
              "      <td>-3.129358</td>\n",
              "      <td>-0.496215</td>\n",
              "      <td>0.483026</td>\n",
              "      <td>1.442954</td>\n",
              "      <td>0.175032</td>\n",
              "      <td>-1.620820</td>\n",
              "      <td>-2.048605</td>\n",
              "      <td>1.414200</td>\n",
              "      <td>0.006082</td>\n",
              "      <td>1.371945</td>\n",
              "      <td>0.327500</td>\n",
              "    </tr>\n",
              "    <tr>\n",
              "      <th>1</th>\n",
              "      <td>1.672939</td>\n",
              "      <td>1.318661</td>\n",
              "      <td>-1.217635</td>\n",
              "      <td>-0.357507</td>\n",
              "      <td>0.604956</td>\n",
              "      <td>0.683059</td>\n",
              "      <td>-0.346761</td>\n",
              "      <td>-1.126611</td>\n",
              "      <td>-0.014690</td>\n",
              "      <td>1.413887</td>\n",
              "      <td>0.030408</td>\n",
              "      <td>1.104971</td>\n",
              "      <td>0.858522</td>\n",
              "    </tr>\n",
              "    <tr>\n",
              "      <th>2</th>\n",
              "      <td>1.422261</td>\n",
              "      <td>0.938864</td>\n",
              "      <td>-0.591381</td>\n",
              "      <td>-0.107831</td>\n",
              "      <td>0.117236</td>\n",
              "      <td>0.746383</td>\n",
              "      <td>-0.346761</td>\n",
              "      <td>-1.347552</td>\n",
              "      <td>-0.922129</td>\n",
              "      <td>1.413154</td>\n",
              "      <td>0.054724</td>\n",
              "      <td>-0.294563</td>\n",
              "      <td>1.141073</td>\n",
              "    </tr>\n",
              "    <tr>\n",
              "      <th>3</th>\n",
              "      <td>1.067527</td>\n",
              "      <td>1.053280</td>\n",
              "      <td>-2.536064</td>\n",
              "      <td>0.252812</td>\n",
              "      <td>0.117236</td>\n",
              "      <td>1.189656</td>\n",
              "      <td>-0.346761</td>\n",
              "      <td>-0.795200</td>\n",
              "      <td>-2.048605</td>\n",
              "      <td>1.412004</td>\n",
              "      <td>0.079024</td>\n",
              "      <td>2.648374</td>\n",
              "      <td>-0.650456</td>\n",
              "    </tr>\n",
              "    <tr>\n",
              "      <th>4</th>\n",
              "      <td>1.199961</td>\n",
              "      <td>1.250329</td>\n",
              "      <td>-3.063436</td>\n",
              "      <td>-0.385248</td>\n",
              "      <td>0.604956</td>\n",
              "      <td>1.696253</td>\n",
              "      <td>-0.005999</td>\n",
              "      <td>-1.696405</td>\n",
              "      <td>-2.048605</td>\n",
              "      <td>1.410436</td>\n",
              "      <td>0.103301</td>\n",
              "      <td>1.496221</td>\n",
              "      <td>0.568667</td>\n",
              "    </tr>\n",
              "    <tr>\n",
              "      <th>...</th>\n",
              "      <td>...</td>\n",
              "      <td>...</td>\n",
              "      <td>...</td>\n",
              "      <td>...</td>\n",
              "      <td>...</td>\n",
              "      <td>...</td>\n",
              "      <td>...</td>\n",
              "      <td>...</td>\n",
              "      <td>...</td>\n",
              "      <td>...</td>\n",
              "      <td>...</td>\n",
              "      <td>...</td>\n",
              "      <td>...</td>\n",
              "    </tr>\n",
              "    <tr>\n",
              "      <th>937</th>\n",
              "      <td>-0.294651</td>\n",
              "      <td>0.177682</td>\n",
              "      <td>-2.008693</td>\n",
              "      <td>0.502487</td>\n",
              "      <td>0.483026</td>\n",
              "      <td>2.519473</td>\n",
              "      <td>0.419955</td>\n",
              "      <td>-2.417368</td>\n",
              "      <td>-2.048605</td>\n",
              "      <td>-1.294165</td>\n",
              "      <td>-0.570208</td>\n",
              "      <td>-0.704062</td>\n",
              "      <td>0.746624</td>\n",
              "    </tr>\n",
              "    <tr>\n",
              "      <th>938</th>\n",
              "      <td>-0.602087</td>\n",
              "      <td>-0.362615</td>\n",
              "      <td>0.628166</td>\n",
              "      <td>0.474745</td>\n",
              "      <td>0.726886</td>\n",
              "      <td>0.176462</td>\n",
              "      <td>-0.346761</td>\n",
              "      <td>0.879296</td>\n",
              "      <td>0.517257</td>\n",
              "      <td>-1.284165</td>\n",
              "      <td>-0.592385</td>\n",
              "      <td>-0.892883</td>\n",
              "      <td>0.086332</td>\n",
              "    </tr>\n",
              "    <tr>\n",
              "      <th>939</th>\n",
              "      <td>-0.767629</td>\n",
              "      <td>-0.426179</td>\n",
              "      <td>0.694087</td>\n",
              "      <td>1.029580</td>\n",
              "      <td>-0.248555</td>\n",
              "      <td>0.176462</td>\n",
              "      <td>-0.346761</td>\n",
              "      <td>0.518814</td>\n",
              "      <td>0.266929</td>\n",
              "      <td>-1.273785</td>\n",
              "      <td>-0.614387</td>\n",
              "      <td>-1.010138</td>\n",
              "      <td>-0.932813</td>\n",
              "    </tr>\n",
              "    <tr>\n",
              "      <th>940</th>\n",
              "      <td>-1.004118</td>\n",
              "      <td>-0.537417</td>\n",
              "      <td>0.397441</td>\n",
              "      <td>1.251514</td>\n",
              "      <td>0.117236</td>\n",
              "      <td>0.493085</td>\n",
              "      <td>1.016290</td>\n",
              "      <td>0.065305</td>\n",
              "      <td>-1.798277</td>\n",
              "      <td>-1.263028</td>\n",
              "      <td>-0.636207</td>\n",
              "      <td>-0.872387</td>\n",
              "      <td>-0.448610</td>\n",
              "    </tr>\n",
              "    <tr>\n",
              "      <th>941</th>\n",
              "      <td>-1.146012</td>\n",
              "      <td>-0.696327</td>\n",
              "      <td>-0.525460</td>\n",
              "      <td>0.890872</td>\n",
              "      <td>0.483026</td>\n",
              "      <td>1.252981</td>\n",
              "      <td>0.675527</td>\n",
              "      <td>-0.987070</td>\n",
              "      <td>-1.579240</td>\n",
              "      <td>-1.251898</td>\n",
              "      <td>-0.657839</td>\n",
              "      <td>1.086538</td>\n",
              "      <td>0.327500</td>\n",
              "    </tr>\n",
              "  </tbody>\n",
              "</table>\n",
              "<p>942 rows × 13 columns</p>\n",
              "</div>"
            ],
            "text/plain": [
              "     MaximumPressure  MinimumPressure  ...     WindX     WindY\n",
              "0           2.176661         1.731829  ...  1.371945  0.327500\n",
              "1           1.672939         1.318661  ...  1.104971  0.858522\n",
              "2           1.422261         0.938864  ... -0.294563  1.141073\n",
              "3           1.067527         1.053280  ...  2.648374 -0.650456\n",
              "4           1.199961         1.250329  ...  1.496221  0.568667\n",
              "..               ...              ...  ...       ...       ...\n",
              "937        -0.294651         0.177682  ... -0.704062  0.746624\n",
              "938        -0.602087        -0.362615  ... -0.892883  0.086332\n",
              "939        -0.767629        -0.426179  ... -1.010138 -0.932813\n",
              "940        -1.004118        -0.537417  ... -0.872387 -0.448610\n",
              "941        -1.146012        -0.696327  ...  1.086538  0.327500\n",
              "\n",
              "[942 rows x 13 columns]"
            ]
          },
          "metadata": {},
          "execution_count": 127
        }
      ]
    },
    {
      "cell_type": "markdown",
      "metadata": {
        "id": "I5fTRn6t6ftS"
      },
      "source": [
        "5. Use moving-window transformation to transform each set into feature-target pairs (X,y), where X consists of all features in the past 5 days and y is the precipitation in the next 3 days. No need to shuffle the data."
      ]
    },
    {
      "cell_type": "code",
      "metadata": {
        "colab": {
          "base_uri": "https://localhost:8080/"
        },
        "id": "QZXL7Lv1_ysj",
        "outputId": "0dfea229-6947-4e15-841c-788a7036122f"
      },
      "source": [
        "def make_dataset(data, window_size=5, future=3):\n",
        "    target = np.array([data[i:future+i] for i in range(len(data)-future)])\n",
        "    target = np.r_[target, np.zeros((future, future, data.shape[1]))]\n",
        "    dataset = tf.keras.preprocessing.timeseries_dataset_from_array(\n",
        "            data=data,\n",
        "            targets=target,\n",
        "            sequence_length=window_size,\n",
        "            sequence_stride=1,\n",
        "            shuffle=False,\n",
        "            batch_size=10)\n",
        "    \n",
        "    X, y = next(iter(dataset))\n",
        "    print(\">>\", X.shape, y.shape)\n",
        "\n",
        "    return dataset\n",
        "    \n",
        "train_batch = make_dataset(train)\n",
        "valid_batch = make_dataset(valid)\n",
        "test_batch  = make_dataset(test)"
      ],
      "execution_count": 153,
      "outputs": [
        {
          "output_type": "stream",
          "name": "stdout",
          "text": [
            ">> (10, 5, 13) (10, 3, 13)\n",
            ">> (10, 5, 13) (10, 3, 13)\n",
            ">> (10, 5, 13) (10, 3, 13)\n"
          ]
        }
      ]
    },
    {
      "cell_type": "markdown",
      "metadata": {
        "id": "35moqN-pQ-nl"
      },
      "source": [
        "6. Build an LSTM Encoder-Decoder model, which takes a sequence of length 5 as an input and returns a sequence of length 3. You might also add some Dense layers at the end of the network."
      ]
    },
    {
      "cell_type": "code",
      "metadata": {
        "id": "6CkTgs0nQ_Pm"
      },
      "source": [
        "from tensorflow.keras.layers import Dense, Input, Flatten, GRU, LSTM, RepeatVector\n",
        "from tensorflow.keras.models import Model\n",
        "from tensorflow.compat.v1.keras.layers import CuDNNLSTM\n",
        "\n",
        "inps = Input(shape=(5,13))\n",
        "encoder = CuDNNLSTM(units=100, \n",
        "                    return_sequences=True,\n",
        "                    return_state=True)\n",
        "\n",
        "x, state_h, state_c = encoder(inps)\n",
        "x = RepeatVector(3)(state_h)\n",
        "\n",
        "decoder = CuDNNLSTM(units=100, \n",
        "                    return_sequences=True,\n",
        "                    return_state=True)\n",
        "\n",
        "x, *_ = decoder(x, [state_h, state_c])\n",
        "\n",
        "outs = Dense(13)(x)\n",
        "model = Model(inputs=inps, outputs=outs)"
      ],
      "execution_count": 154,
      "outputs": []
    },
    {
      "cell_type": "code",
      "metadata": {
        "colab": {
          "base_uri": "https://localhost:8080/",
          "height": 533
        },
        "id": "S3i2RG7YUgLL",
        "outputId": "abc564e2-098a-42dc-a6b8-c2b8729e312e"
      },
      "source": [
        "tf.keras.utils.plot_model(model, show_shapes=True)"
      ],
      "execution_count": 155,
      "outputs": [
        {
          "output_type": "execute_result",
          "data": {
            "image/png": "[encoded data removed]",
            "text/plain": [
              "<IPython.core.display.Image object>"
            ]
          },
          "metadata": {},
          "execution_count": 155
        }
      ]
    },
    {
      "cell_type": "markdown",
      "metadata": {
        "id": "3xyw4giYU2-B"
      },
      "source": [
        "7. Choose your own optimizer, learning rate and batch size. Train the model using the mean-squared error (MSE) as the loss function and the mean absolute error (MAE) as the metric. While training, keep track of the MSE and MAE of the predictions of the validation set by setting validation_data= (Xval,yval) in model.fit’s argument."
      ]
    },
    {
      "cell_type": "code",
      "metadata": {
        "colab": {
          "base_uri": "https://localhost:8080/"
        },
        "id": "Hax0nxdKU4B6",
        "outputId": "77e7c7a1-47ee-492d-8b97-f6d324543e2c"
      },
      "source": [
        "model.compile(loss=tf.losses.MeanSquaredError(),\n",
        "              optimizer=tf.optimizers.Adam(learning_rate=0.001),\n",
        "              metrics=[tf.metrics.MeanAbsoluteError()])\n",
        "\n",
        "model.fit(train_batch, validation_data=valid_batch, epochs=10)"
      ],
      "execution_count": 156,
      "outputs": [
        {
          "output_type": "stream",
          "name": "stdout",
          "text": [
            "Epoch 1/10\n",
            "584/584 [==============================] - 8s 11ms/step - loss: 0.4635 - mean_absolute_error: 0.4548 - val_loss: 0.3707 - val_mean_absolute_error: 0.4307\n",
            "Epoch 2/10\n",
            "584/584 [==============================] - 6s 11ms/step - loss: 0.3320 - mean_absolute_error: 0.3717 - val_loss: 0.2850 - val_mean_absolute_error: 0.3652\n",
            "Epoch 3/10\n",
            "584/584 [==============================] - 6s 11ms/step - loss: 0.2980 - mean_absolute_error: 0.3527 - val_loss: 0.2489 - val_mean_absolute_error: 0.3353\n",
            "Epoch 4/10\n",
            "584/584 [==============================] - 6s 11ms/step - loss: 0.2615 - mean_absolute_error: 0.3283 - val_loss: 0.2878 - val_mean_absolute_error: 0.3832\n",
            "Epoch 5/10\n",
            "584/584 [==============================] - 6s 11ms/step - loss: 0.2388 - mean_absolute_error: 0.3123 - val_loss: 0.2178 - val_mean_absolute_error: 0.3152\n",
            "Epoch 6/10\n",
            "584/584 [==============================] - 6s 11ms/step - loss: 0.2340 - mean_absolute_error: 0.3185 - val_loss: 0.2215 - val_mean_absolute_error: 0.3224\n",
            "Epoch 7/10\n",
            "584/584 [==============================] - 6s 11ms/step - loss: 0.2055 - mean_absolute_error: 0.2868 - val_loss: 0.1796 - val_mean_absolute_error: 0.2817\n",
            "Epoch 8/10\n",
            "584/584 [==============================] - 6s 11ms/step - loss: 0.1860 - mean_absolute_error: 0.2739 - val_loss: 0.1861 - val_mean_absolute_error: 0.2877\n",
            "Epoch 9/10\n",
            "584/584 [==============================] - 6s 11ms/step - loss: 0.1762 - mean_absolute_error: 0.2673 - val_loss: 0.1977 - val_mean_absolute_error: 0.3007\n",
            "Epoch 10/10\n",
            "584/584 [==============================] - 6s 11ms/step - loss: 0.1715 - mean_absolute_error: 0.2685 - val_loss: 0.1942 - val_mean_absolute_error: 0.3037\n"
          ]
        },
        {
          "output_type": "execute_result",
          "data": {
            "text/plain": [
              "<keras.callbacks.History at 0x7fb777f4d250>"
            ]
          },
          "metadata": {},
          "execution_count": 156
        }
      ]
    },
    {
      "cell_type": "markdown",
      "metadata": {
        "id": "jnWwaMShX_QJ"
      },
      "source": [
        "8. Make predictions (i.e. forecasts of normalized precipitation for the next three days) on the test set. Then plot time series of the next-day forecast and the actual next-day precipitation."
      ]
    },
    {
      "cell_type": "code",
      "metadata": {
        "id": "fGaTMh-ZXr5N"
      },
      "source": [
        "x_test,y_test = next(iter(test_batch))\n",
        "y_test_pred = model.predict(x_test)\n",
        "y_test = scaler.inverse_transform(y_test).reshape((30, 13))\n",
        "y_test_pred = scaler.inverse_transform(y_test_pred).reshape((30, 13))"
      ],
      "execution_count": 168,
      "outputs": []
    },
    {
      "cell_type": "code",
      "metadata": {
        "colab": {
          "base_uri": "https://localhost:8080/",
          "height": 497
        },
        "id": "0vJ4vw24pV9F",
        "outputId": "3c8e8efd-0acc-4d08-88fc-9c70e189fb2b"
      },
      "source": [
        "import matplotlib.pyplot as plt\n",
        "\n",
        "fig = plt.figure(figsize=(16,8))\n",
        "df = pd.DataFrame(y_test)\n",
        "df.columns = copy.columns\n",
        "preci1 = df.Precipitation\n",
        "preci1.plot()\n",
        "df = pd.DataFrame(y_test_pred)\n",
        "df.columns = copy.columns\n",
        "preci2 = df.Precipitation\n",
        "preci2.plot()\n",
        "\n",
        "plt.legend([\"Actual\", \"Predict\"])\n",
        "plt.xlabel(\"Date\")\n",
        "plt.ylabel(\"Precipitation\")\n",
        "plt.show()"
      ],
      "execution_count": 171,
      "outputs": [
        {
          "output_type": "display_data",
          "data": {
            "image/png": "[encoded data removed]",
            "text/plain": [
              "<Figure size 1152x576 with 1 Axes>"
            ]
          },
          "metadata": {
            "needs_background": "light"
          }
        }
      ]
    },
    {
      "cell_type": "markdown",
      "metadata": {
        "id": "T3DsxHE0YvIo"
      },
      "source": [
        "9. Does the model underestimate or overestimate precipitation, and why might that be the case?"
      ]
    },
    {
      "cell_type": "code",
      "metadata": {
        "colab": {
          "base_uri": "https://localhost:8080/"
        },
        "id": "Be-K-xx0tbmF",
        "outputId": "9aa1038b-2bdd-4b97-9d1e-47367caa94da"
      },
      "source": [
        "from sklearn.metrics import mean_absolute_error as MAE \n",
        "\n",
        "mae = MAE(preci1, preci2)\n",
        "mae"
      ],
      "execution_count": 175,
      "outputs": [
        {
          "output_type": "execute_result",
          "data": {
            "text/plain": [
              "1.5252465543150902"
            ]
          },
          "metadata": {},
          "execution_count": 175
        }
      ]
    },
    {
      "cell_type": "markdown",
      "metadata": {
        "id": "9hbPj9EB234Q"
      },
      "source": [
        "The model estimate precipitation with average error of 1.52."
      ]
    }
  ]
}