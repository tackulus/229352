{
  "nbformat": 4,
  "nbformat_minor": 0,
  "metadata": {
    "colab": {
      "name": "Lab09.ipynb",
      "provenance": [],
      "collapsed_sections": [],
      "include_colab_link": true
    },
    "kernelspec": {
      "name": "python3",
      "display_name": "Python 3"
    },
    "language_info": {
      "name": "python"
    },
    "accelerator": "GPU"
  },
  "cells": [
    {
      "cell_type": "markdown",
      "metadata": {
        "id": "view-in-github",
        "colab_type": "text"
      },
      "source": [
        "<a href=\"https://colab.research.google.com/github/tackulus/229352/blob/main/Lab09.ipynb\" target=\"_parent\"><img src=\"https://colab.research.google.com/assets/colab-badge.svg\" alt=\"Open In Colab\"/></a>"
      ]
    },
    {
      "cell_type": "markdown",
      "metadata": {
        "id": "bUK5Xhf7y1cK"
      },
      "source": [
        "## **Lab 09**\n",
        "\n",
        "---\n",
        "\n",
        "> **229352 Statistical Learning for Data Science 2**\n",
        "\n",
        "> **Kasidis Torcharoen (610510531)**"
      ]
    },
    {
      "cell_type": "code",
      "metadata": {
        "id": "qGEMRPntZsgw"
      },
      "source": [
        "from google.colab import drive\n",
        "drive.mount('/content/drive')\n",
        "\n",
        "!unzip /content/drive/MyDrive/pokemon.zip;\n",
        "!mkdir /content/drive/MyDrive/new_pokemon; #Folder to save images of new pokemon\n",
        "!mkdir /content/drive/MyDrive/GAN_weights #Folder to save models' weights"
      ],
      "execution_count": null,
      "outputs": []
    },
    {
      "cell_type": "code",
      "metadata": {
        "id": "RIWwIAoXaCgr"
      },
      "source": [
        "import numpy as np\n",
        "import matplotlib.pyplot as plt\n",
        "from tqdm import tqdm\n",
        "\n",
        "import tensorflow as tf\n",
        "from tensorflow.keras.layers import Dense, Conv2D, Conv2DTranspose\n",
        "from tensorflow.keras.layers import BatchNormalization, LeakyReLU\n",
        "from tensorflow.keras.layers import Input, Flatten, Reshape, RandomRotation\n",
        "from tensorflow.keras.models import Model\n",
        "from tensorflow.image import random_hue"
      ],
      "execution_count": null,
      "outputs": []
    },
    {
      "cell_type": "code",
      "metadata": {
        "id": "Cib-prnfamch",
        "colab": {
          "base_uri": "https://localhost:8080/"
        },
        "outputId": "cd7e5290-cb7a-4f4b-ee07-47f4e026b468"
      },
      "source": [
        "#TODO-0: set the training parameters below\n",
        "BATCH_SIZE = 16\n",
        "EPOCHS = 80\n",
        "noise_dim = 100 \n",
        "\n",
        "\n",
        "num_examples_to_generate = 16\n",
        "IMAGE_SIZE = 64\n",
        "\n",
        "\n",
        "images = tf.keras.preprocessing.image_dataset_from_directory(\n",
        "    directory='/content/pokemon/pokemon', label_mode=None,\n",
        "    class_names=None, color_mode='rgb', batch_size=BATCH_SIZE, image_size=(IMAGE_SIZE,\n",
        "    IMAGE_SIZE), shuffle=True)\n",
        "\n",
        "#preprocessing+augmentation\n",
        "images = images.map(lambda x: random_hue(x,0.5))\n",
        "images = images.map(lambda x: (x-127.5)/127.5) #transform pixels to [-1,1] \n",
        "images = images.cache().prefetch(buffer_size=tf.data.experimental.AUTOTUNE)\n"
      ],
      "execution_count": null,
      "outputs": [
        {
          "output_type": "stream",
          "name": "stdout",
          "text": [
            "Found 15467 files belonging to 1 classes.\n"
          ]
        }
      ]
    },
    {
      "cell_type": "code",
      "metadata": {
        "id": "3YD2zQO-c7p0"
      },
      "source": [
        "#Generator transforms a Gaussian vector into a 64x64x3 image\n",
        "\n",
        "z = Input(shape=(noise_dim,)) \n",
        "\n",
        "x = Dense(64*8*4*4, use_bias=False)(z)\n",
        "x = BatchNormalization()(x)\n",
        "x = LeakyReLU(0.2)(x)\n",
        "\n",
        "x = Reshape((4,4,64*8))(x)\n",
        "\n",
        "# see https://www.tensorflow.org/api_docs/python/tf/keras/layers/Conv2DTranspose\n",
        "x = Conv2DTranspose(256, 4 , strides=2, padding='same' , use_bias = False)(x)\n",
        "x = BatchNormalization()(x)\n",
        "x = LeakyReLU(0.2)(x)\n",
        "\n",
        "#TODO-1: fill the rest of the model\n",
        "x = Conv2DTranspose(128, 4 , strides=2, padding='same' , use_bias = False)(x)\n",
        "x = BatchNormalization()(x)\n",
        "x = LeakyReLU(0.2)(x)\n",
        "\n",
        "x = Conv2DTranspose(64, 4 , strides=2, padding='same' , use_bias = False)(x)\n",
        "x = BatchNormalization()(x)\n",
        "x = LeakyReLU(0.2)(x)\n",
        "\n",
        "#TODO-1\n",
        "out = Conv2DTranspose(3, 4 , strides=2, padding='same' , use_bias = False, \n",
        "                      activation='tanh')(x)\n",
        "\n",
        "generator = Model(inputs = z, outputs = out)\n"
      ],
      "execution_count": null,
      "outputs": []
    },
    {
      "cell_type": "code",
      "metadata": {
        "colab": {
          "base_uri": "https://localhost:8080/"
        },
        "id": "v5SI2bM7RRyJ",
        "outputId": "a9297b84-2794-4472-f3a2-6a0198f500a1"
      },
      "source": [
        "generator.summary()"
      ],
      "execution_count": null,
      "outputs": [
        {
          "output_type": "stream",
          "name": "stdout",
          "text": [
            "Model: \"model\"\n",
            "_________________________________________________________________\n",
            "Layer (type)                 Output Shape              Param #   \n",
            "=================================================================\n",
            "input_1 (InputLayer)         [(None, 100)]             0         \n",
            "_________________________________________________________________\n",
            "dense (Dense)                (None, 8192)              819200    \n",
            "_________________________________________________________________\n",
            "batch_normalization (BatchNo (None, 8192)              32768     \n",
            "_________________________________________________________________\n",
            "leaky_re_lu (LeakyReLU)      (None, 8192)              0         \n",
            "_________________________________________________________________\n",
            "reshape (Reshape)            (None, 4, 4, 512)         0         \n",
            "_________________________________________________________________\n",
            "conv2d_transpose (Conv2DTran (None, 8, 8, 256)         2097152   \n",
            "_________________________________________________________________\n",
            "batch_normalization_1 (Batch (None, 8, 8, 256)         1024      \n",
            "_________________________________________________________________\n",
            "leaky_re_lu_1 (LeakyReLU)    (None, 8, 8, 256)         0         \n",
            "_________________________________________________________________\n",
            "conv2d_transpose_1 (Conv2DTr (None, 16, 16, 128)       524288    \n",
            "_________________________________________________________________\n",
            "batch_normalization_2 (Batch (None, 16, 16, 128)       512       \n",
            "_________________________________________________________________\n",
            "leaky_re_lu_2 (LeakyReLU)    (None, 16, 16, 128)       0         \n",
            "_________________________________________________________________\n",
            "conv2d_transpose_2 (Conv2DTr (None, 32, 32, 64)        131072    \n",
            "_________________________________________________________________\n",
            "batch_normalization_3 (Batch (None, 32, 32, 64)        256       \n",
            "_________________________________________________________________\n",
            "leaky_re_lu_3 (LeakyReLU)    (None, 32, 32, 64)        0         \n",
            "_________________________________________________________________\n",
            "conv2d_transpose_3 (Conv2DTr (None, 64, 64, 3)         3072      \n",
            "=================================================================\n",
            "Total params: 3,609,344\n",
            "Trainable params: 3,592,064\n",
            "Non-trainable params: 17,280\n",
            "_________________________________________________________________\n"
          ]
        }
      ]
    },
    {
      "cell_type": "code",
      "metadata": {
        "id": "pllBtX1daoFJ"
      },
      "source": [
        "#Discrimination takes an image, classifies whether the image is real or fake\n",
        "\n",
        "inp = Input(shape=(IMAGE_SIZE,IMAGE_SIZE,3))\n",
        "\n",
        "y = RandomRotation(0.05, fill_mode='constant',fill_value=1.0)(inp)\n",
        "\n",
        "y = Conv2D(64, 4, strides = 2, padding = 'same', use_bias = False)(y)\n",
        "y = BatchNormalization()(y)\n",
        "y = LeakyReLU(0.2)(y)\n",
        "\n",
        "#TODO-2: fill the rest of the model\n",
        "y = Conv2D(128, 4, strides = 2, padding = 'same', use_bias = False)(y)\n",
        "y = BatchNormalization()(y)\n",
        "y = LeakyReLU(0.2)(y)\n",
        "\n",
        "y = Conv2D(256, 4, strides = 2, padding = 'same', use_bias = False)(y)\n",
        "y = BatchNormalization()(y)\n",
        "y = LeakyReLU(0.2)(y)\n",
        "\n",
        "y = Conv2D(512, 4, strides = 2, padding = 'same', use_bias = False)(y)\n",
        "y = BatchNormalization()(y)\n",
        "y = LeakyReLU(0.2)(y)\n",
        "\n",
        "#TODO-2\n",
        "y = Flatten()(y)\n",
        "y_out = Dense(1, activation='sigmoid')(y)\n",
        "\n",
        "discriminator = Model(inputs = inp, outputs = y_out)"
      ],
      "execution_count": null,
      "outputs": []
    },
    {
      "cell_type": "code",
      "metadata": {
        "colab": {
          "base_uri": "https://localhost:8080/"
        },
        "id": "10W0-p1fYRuH",
        "outputId": "3a47e495-937d-48f8-91fc-713612ac0749"
      },
      "source": [
        "discriminator.summary()"
      ],
      "execution_count": null,
      "outputs": [
        {
          "output_type": "stream",
          "name": "stdout",
          "text": [
            "Model: \"model_1\"\n",
            "_________________________________________________________________\n",
            "Layer (type)                 Output Shape              Param #   \n",
            "=================================================================\n",
            "input_2 (InputLayer)         [(None, 64, 64, 3)]       0         \n",
            "_________________________________________________________________\n",
            "random_rotation (RandomRotat (None, 64, 64, 3)         0         \n",
            "_________________________________________________________________\n",
            "conv2d (Conv2D)              (None, 32, 32, 64)        3072      \n",
            "_________________________________________________________________\n",
            "batch_normalization_4 (Batch (None, 32, 32, 64)        256       \n",
            "_________________________________________________________________\n",
            "leaky_re_lu_4 (LeakyReLU)    (None, 32, 32, 64)        0         \n",
            "_________________________________________________________________\n",
            "conv2d_1 (Conv2D)            (None, 16, 16, 128)       131072    \n",
            "_________________________________________________________________\n",
            "batch_normalization_5 (Batch (None, 16, 16, 128)       512       \n",
            "_________________________________________________________________\n",
            "leaky_re_lu_5 (LeakyReLU)    (None, 16, 16, 128)       0         \n",
            "_________________________________________________________________\n",
            "conv2d_2 (Conv2D)            (None, 8, 8, 256)         524288    \n",
            "_________________________________________________________________\n",
            "batch_normalization_6 (Batch (None, 8, 8, 256)         1024      \n",
            "_________________________________________________________________\n",
            "leaky_re_lu_6 (LeakyReLU)    (None, 8, 8, 256)         0         \n",
            "_________________________________________________________________\n",
            "conv2d_3 (Conv2D)            (None, 4, 4, 512)         2097152   \n",
            "_________________________________________________________________\n",
            "batch_normalization_7 (Batch (None, 4, 4, 512)         2048      \n",
            "_________________________________________________________________\n",
            "leaky_re_lu_7 (LeakyReLU)    (None, 4, 4, 512)         0         \n",
            "_________________________________________________________________\n",
            "flatten (Flatten)            (None, 8192)              0         \n",
            "_________________________________________________________________\n",
            "dense_1 (Dense)              (None, 1)                 8193      \n",
            "=================================================================\n",
            "Total params: 2,767,617\n",
            "Trainable params: 2,765,697\n",
            "Non-trainable params: 1,920\n",
            "_________________________________________________________________\n"
          ]
        }
      ]
    },
    {
      "cell_type": "code",
      "metadata": {
        "id": "IRcWT4tLdKbw"
      },
      "source": [
        "cross_entropy = tf.keras.losses.BinaryCrossentropy()\n",
        "\n",
        "def discriminator_loss(real_pred, fake_pred): \n",
        "    #TODO-3: Modify the following line to apply Label Smoothing\n",
        "    real_loss = cross_entropy(tf.ones_like(real_pred) * 0.9, real_pred)\n",
        "    fake_loss = cross_entropy(tf.zeros_like(fake_pred), fake_pred)\n",
        "    total_loss = (real_loss + fake_loss)\n",
        "    return total_loss\n",
        "def generator_loss(fake_pred):\n",
        "    return cross_entropy(tf.ones_like(fake_pred), fake_pred)"
      ],
      "execution_count": null,
      "outputs": []
    },
    {
      "cell_type": "code",
      "metadata": {
        "id": "WTU46la4dQdM"
      },
      "source": [
        "# Setup Adam optimizers for both Generator and Discriminator\n",
        "\n",
        "#TODO-4: specify optimizers of the generator and discriminator\n",
        "# generator: Adam with learning rate = 0.0002 and beta_1 = 0.5\n",
        "# discriminator: Adam with learning rate = 0.0004 and beta_1 = 0.5\n",
        "generator_optimizer = tf.keras.optimizers.Adam(learning_rate=0.0002, beta_1=0.5)\n",
        "discriminator_optimizer = tf.keras.optimizers.Adam(learning_rate=0.0004, beta_1=0.5)"
      ],
      "execution_count": null,
      "outputs": []
    },
    {
      "cell_type": "code",
      "metadata": {
        "id": "qAkhU0xndUpC"
      },
      "source": [
        "#No TODO here\n",
        "\n",
        "def train_step(real_images): # real_images: minibatch of real images\n",
        "    noise = tf.random.normal(mean=0, stddev=1, shape=(BATCH_SIZE, noise_dim))\n",
        "\n",
        "    with tf.GradientTape() as gen_tape, tf.GradientTape() as disc_tape:\n",
        "        #generate_data & classify as fake or real\n",
        "        generated_images = generator(noise,training=True)\n",
        "\n",
        "        real_pred = discriminator(real_images,training = True)\n",
        "        fake_pred = discriminator(generated_images, training=True)\n",
        "\n",
        "        #compute loss\n",
        "        gen_loss = generator_loss(fake_pred)\n",
        "        disc_loss = discriminator_loss(real_pred, fake_pred)\n",
        "\n",
        "    #compute gradients\n",
        "    gradients_of_generator = gen_tape.gradient(gen_loss, generator.trainable_variables)\n",
        "    gradients_of_discriminator = disc_tape.gradient(disc_loss, discriminator.trainable_variables)\n",
        "\n",
        "    #update parameters with gradient descent\n",
        "    generator_optimizer.apply_gradients(zip(gradients_of_generator, generator.trainable_variables))\n",
        "    discriminator_optimizer.apply_gradients(zip(gradients_of_discriminator, discriminator.trainable_variables))\n",
        "\n",
        "    return gen_loss, disc_loss\n"
      ],
      "execution_count": null,
      "outputs": []
    },
    {
      "cell_type": "code",
      "metadata": {
        "id": "gNRnem7-dZrA",
        "colab": {
          "base_uri": "https://localhost:8080/"
        },
        "outputId": "32b6f3a9-0639-4f9f-d8e2-a1bfc7c63d08"
      },
      "source": [
        "# 16 random gaussian vectors to generate example images\n",
        "noises = tf.random.normal(mean=0, stddev=1, shape=(num_examples_to_generate, noise_dim))\n",
        "\n",
        "#TODO-5: Question: which line generates new pokemon from random noises?\n",
        "\n",
        "for epoch in range(EPOCHS):\n",
        "    print('Starting epoch ',epoch)\n",
        "    for image_batch in tqdm(images):\n",
        "        gen_loss, disc_loss =train_step(image_batch)\n",
        "\n",
        "    print('generative loss: ',float(gen_loss),\n",
        "          ' discriminative loss: ',float(disc_loss))\n",
        "\n",
        "    predictions = generator(noises, training=False) # This line\n",
        "\n",
        "    fig = plt.figure(figsize=(4, 4))\n",
        "\n",
        "    for i in range(predictions.shape[0]):\n",
        "       plt.subplot(4, 4, i+1)\n",
        "       plt.imshow((predictions[i, :, :, :] +1)/2)\n",
        "       plt.axis('off')\n",
        "\n",
        "    plt.savefig(f'/content/drive/MyDrive/new_pokemon/image_at_epoch_{epoch:04d}.png')\n",
        "    generator.save_weights(f'/content/drive/MyDrive/GAN_weights/pokemon_generator_{epoch:04d}')\n",
        "    discriminator.save_weights(f'/content/drive/MyDrive/GAN_weights/pokemon_discriminator_{epoch:04d}')"
      ],
      "execution_count": null,
      "outputs": [
        {
          "metadata": {
            "tags": null
          },
          "name": "stdout",
          "output_type": "stream",
          "text": [
            "Starting epoch  0\n"
          ]
        },
        {
          "metadata": {
            "tags": null
          },
          "name": "stderr",
          "output_type": "stream",
          "text": [
            "100%|██████████| 967/967 [03:15<00:00,  4.96it/s]\n"
          ]
        },
        {
          "metadata": {
            "tags": null
          },
          "name": "stdout",
          "output_type": "stream",
          "text": [
            "generative loss:  1.3204978704452515  discriminative loss:  0.8154924511909485\n",
            "Starting epoch  1\n"
          ]
        },
        {
          "metadata": {
            "tags": null
          },
          "name": "stderr",
          "output_type": "stream",
          "text": [
            "100%|██████████| 967/967 [02:21<00:00,  6.85it/s]\n"
          ]
        },
        {
          "metadata": {
            "tags": null
          },
          "name": "stdout",
          "output_type": "stream",
          "text": [
            "generative loss:  1.0291776657104492  discriminative loss:  0.9107860326766968\n",
            "Starting epoch  2\n"
          ]
        },
        {
          "metadata": {
            "tags": null
          },
          "name": "stderr",
          "output_type": "stream",
          "text": [
            "100%|██████████| 967/967 [03:21<00:00,  4.79it/s]\n"
          ]
        },
        {
          "metadata": {
            "tags": null
          },
          "name": "stdout",
          "output_type": "stream",
          "text": [
            "generative loss:  0.923734724521637  discriminative loss:  1.1342942714691162\n",
            "Starting epoch  3\n"
          ]
        },
        {
          "metadata": {
            "tags": null
          },
          "name": "stderr",
          "output_type": "stream",
          "text": [
            "100%|██████████| 967/967 [02:25<00:00,  6.64it/s]\n"
          ]
        },
        {
          "metadata": {
            "tags": null
          },
          "name": "stdout",
          "output_type": "stream",
          "text": [
            "generative loss:  0.8083805441856384  discriminative loss:  1.0403069257736206\n",
            "Starting epoch  4\n"
          ]
        },
        {
          "metadata": {
            "tags": null
          },
          "name": "stderr",
          "output_type": "stream",
          "text": [
            "100%|██████████| 967/967 [03:21<00:00,  4.79it/s]\n"
          ]
        },
        {
          "metadata": {
            "tags": null
          },
          "name": "stdout",
          "output_type": "stream",
          "text": [
            "generative loss:  1.7463964223861694  discriminative loss:  0.6544740200042725\n",
            "Starting epoch  5\n"
          ]
        },
        {
          "metadata": {
            "tags": null
          },
          "name": "stderr",
          "output_type": "stream",
          "text": [
            "100%|██████████| 967/967 [02:23<00:00,  6.72it/s]\n"
          ]
        },
        {
          "metadata": {
            "tags": null
          },
          "name": "stdout",
          "output_type": "stream",
          "text": [
            "generative loss:  0.7588198184967041  discriminative loss:  1.2395234107971191\n",
            "Starting epoch  6\n"
          ]
        },
        {
          "metadata": {
            "tags": null
          },
          "name": "stderr",
          "output_type": "stream",
          "text": [
            "100%|██████████| 967/967 [02:21<00:00,  6.81it/s]\n"
          ]
        },
        {
          "metadata": {
            "tags": null
          },
          "name": "stdout",
          "output_type": "stream",
          "text": [
            "generative loss:  2.3326802253723145  discriminative loss:  0.620826780796051\n",
            "Starting epoch  7\n"
          ]
        },
        {
          "metadata": {
            "tags": null
          },
          "name": "stderr",
          "output_type": "stream",
          "text": [
            "100%|██████████| 967/967 [02:23<00:00,  6.76it/s]\n"
          ]
        },
        {
          "metadata": {
            "tags": null
          },
          "name": "stdout",
          "output_type": "stream",
          "text": [
            "generative loss:  2.9399304389953613  discriminative loss:  0.6235018372535706\n",
            "Starting epoch  8\n"
          ]
        },
        {
          "metadata": {
            "tags": null
          },
          "name": "stderr",
          "output_type": "stream",
          "text": [
            "100%|██████████| 967/967 [03:21<00:00,  4.79it/s]\n"
          ]
        },
        {
          "metadata": {
            "tags": null
          },
          "name": "stdout",
          "output_type": "stream",
          "text": [
            "generative loss:  5.216785907745361  discriminative loss:  0.5365172624588013\n",
            "Starting epoch  9\n"
          ]
        },
        {
          "metadata": {
            "tags": null
          },
          "name": "stderr",
          "output_type": "stream",
          "text": [
            "100%|██████████| 967/967 [03:21<00:00,  4.79it/s]\n"
          ]
        },
        {
          "metadata": {
            "tags": null
          },
          "name": "stdout",
          "output_type": "stream",
          "text": [
            "generative loss:  4.076332092285156  discriminative loss:  0.6561959385871887\n",
            "Starting epoch  10\n"
          ]
        },
        {
          "metadata": {
            "tags": null
          },
          "name": "stderr",
          "output_type": "stream",
          "text": [
            "100%|██████████| 967/967 [03:21<00:00,  4.79it/s]\n"
          ]
        },
        {
          "metadata": {
            "tags": null
          },
          "name": "stdout",
          "output_type": "stream",
          "text": [
            "generative loss:  2.6259026527404785  discriminative loss:  0.5829294323921204\n",
            "Starting epoch  11\n"
          ]
        },
        {
          "metadata": {
            "tags": null
          },
          "name": "stderr",
          "output_type": "stream",
          "text": [
            "100%|██████████| 967/967 [03:21<00:00,  4.79it/s]\n"
          ]
        },
        {
          "metadata": {
            "tags": null
          },
          "name": "stdout",
          "output_type": "stream",
          "text": [
            "generative loss:  4.149786949157715  discriminative loss:  0.9684442281723022\n",
            "Starting epoch  12\n"
          ]
        },
        {
          "metadata": {
            "tags": null
          },
          "name": "stderr",
          "output_type": "stream",
          "text": [
            "100%|██████████| 967/967 [02:34<00:00,  6.28it/s]\n"
          ]
        },
        {
          "metadata": {
            "tags": null
          },
          "name": "stdout",
          "output_type": "stream",
          "text": [
            "generative loss:  2.8042664527893066  discriminative loss:  0.48962628841400146\n",
            "Starting epoch  13\n"
          ]
        },
        {
          "metadata": {
            "tags": null
          },
          "name": "stderr",
          "output_type": "stream",
          "text": [
            "100%|██████████| 967/967 [03:21<00:00,  4.79it/s]\n"
          ]
        },
        {
          "metadata": {
            "tags": null
          },
          "name": "stdout",
          "output_type": "stream",
          "text": [
            "generative loss:  2.9331088066101074  discriminative loss:  0.6152160167694092\n",
            "Starting epoch  14\n"
          ]
        },
        {
          "metadata": {
            "tags": null
          },
          "name": "stderr",
          "output_type": "stream",
          "text": [
            "100%|██████████| 967/967 [03:21<00:00,  4.79it/s]\n"
          ]
        },
        {
          "metadata": {
            "tags": null
          },
          "name": "stdout",
          "output_type": "stream",
          "text": [
            "generative loss:  3.7118923664093018  discriminative loss:  0.41268977522850037\n",
            "Starting epoch  15\n"
          ]
        },
        {
          "metadata": {
            "tags": null
          },
          "name": "stderr",
          "output_type": "stream",
          "text": [
            "100%|██████████| 967/967 [03:21<00:00,  4.79it/s]\n"
          ]
        },
        {
          "metadata": {
            "tags": null
          },
          "name": "stdout",
          "output_type": "stream",
          "text": [
            "generative loss:  4.68742036819458  discriminative loss:  0.3902316093444824\n",
            "Starting epoch  16\n"
          ]
        },
        {
          "metadata": {
            "tags": null
          },
          "name": "stderr",
          "output_type": "stream",
          "text": [
            "100%|██████████| 967/967 [02:25<00:00,  6.64it/s]\n"
          ]
        },
        {
          "metadata": {
            "tags": null
          },
          "name": "stdout",
          "output_type": "stream",
          "text": [
            "generative loss:  1.9658701419830322  discriminative loss:  0.5961238145828247\n",
            "Starting epoch  17\n"
          ]
        },
        {
          "metadata": {
            "tags": null
          },
          "name": "stderr",
          "output_type": "stream",
          "text": [
            "100%|██████████| 967/967 [02:23<00:00,  6.72it/s]\n"
          ]
        },
        {
          "metadata": {
            "tags": null
          },
          "name": "stdout",
          "output_type": "stream",
          "text": [
            "generative loss:  1.2910293340682983  discriminative loss:  0.8405327796936035\n",
            "Starting epoch  18\n"
          ]
        },
        {
          "metadata": {
            "tags": null
          },
          "name": "stderr",
          "output_type": "stream",
          "text": [
            "100%|██████████| 967/967 [03:21<00:00,  4.79it/s]\n"
          ]
        },
        {
          "metadata": {
            "tags": null
          },
          "name": "stdout",
          "output_type": "stream",
          "text": [
            "generative loss:  2.1316535472869873  discriminative loss:  0.5610984563827515\n",
            "Starting epoch  19\n"
          ]
        },
        {
          "metadata": {
            "tags": null
          },
          "name": "stderr",
          "output_type": "stream",
          "text": [
            "100%|██████████| 967/967 [02:29<00:00,  6.49it/s]\n"
          ]
        },
        {
          "metadata": {
            "tags": null
          },
          "name": "stdout",
          "output_type": "stream",
          "text": [
            "generative loss:  2.7558624744415283  discriminative loss:  0.4777185022830963\n",
            "Starting epoch  20\n"
          ]
        },
        {
          "metadata": {
            "tags": null
          },
          "name": "stderr",
          "output_type": "stream",
          "text": [
            "100%|██████████| 967/967 [03:21<00:00,  4.79it/s]\n",
            "/usr/local/lib/python3.7/dist-packages/ipykernel_launcher.py:16: RuntimeWarning: More than 20 figures have been opened. Figures created through the pyplot interface (`matplotlib.pyplot.figure`) are retained until explicitly closed and may consume too much memory. (To control this warning, see the rcParam `figure.max_open_warning`).\n",
            "  app.launch_new_instance()\n"
          ]
        },
        {
          "metadata": {
            "tags": null
          },
          "name": "stdout",
          "output_type": "stream",
          "text": [
            "generative loss:  3.4353930950164795  discriminative loss:  0.7241974472999573\n",
            "Starting epoch  21\n"
          ]
        },
        {
          "metadata": {
            "tags": null
          },
          "name": "stderr",
          "output_type": "stream",
          "text": [
            "100%|██████████| 967/967 [03:21<00:00,  4.79it/s]\n"
          ]
        },
        {
          "metadata": {
            "tags": null
          },
          "name": "stdout",
          "output_type": "stream",
          "text": [
            "generative loss:  2.985231637954712  discriminative loss:  0.4347580075263977\n",
            "Starting epoch  22\n"
          ]
        },
        {
          "metadata": {
            "tags": null
          },
          "name": "stderr",
          "output_type": "stream",
          "text": [
            "100%|██████████| 967/967 [03:21<00:00,  4.79it/s]\n"
          ]
        },
        {
          "metadata": {
            "tags": null
          },
          "name": "stdout",
          "output_type": "stream",
          "text": [
            "generative loss:  4.821601867675781  discriminative loss:  0.5320324301719666\n",
            "Starting epoch  23\n"
          ]
        },
        {
          "metadata": {
            "tags": null
          },
          "name": "stderr",
          "output_type": "stream",
          "text": [
            "100%|██████████| 967/967 [03:21<00:00,  4.79it/s]\n"
          ]
        },
        {
          "metadata": {
            "tags": null
          },
          "name": "stdout",
          "output_type": "stream",
          "text": [
            "generative loss:  3.7320737838745117  discriminative loss:  0.3973955512046814\n",
            "Starting epoch  24\n"
          ]
        },
        {
          "metadata": {
            "tags": null
          },
          "name": "stderr",
          "output_type": "stream",
          "text": [
            "100%|██████████| 967/967 [02:21<00:00,  6.85it/s]\n"
          ]
        },
        {
          "metadata": {
            "tags": null
          },
          "name": "stdout",
          "output_type": "stream",
          "text": [
            "generative loss:  3.1446404457092285  discriminative loss:  0.4663289487361908\n",
            "Starting epoch  25\n"
          ]
        },
        {
          "metadata": {
            "tags": null
          },
          "name": "stderr",
          "output_type": "stream",
          "text": [
            "100%|██████████| 967/967 [02:26<00:00,  6.59it/s]\n"
          ]
        },
        {
          "metadata": {
            "tags": null
          },
          "name": "stdout",
          "output_type": "stream",
          "text": [
            "generative loss:  4.435831069946289  discriminative loss:  0.38714176416397095\n",
            "Starting epoch  26\n"
          ]
        },
        {
          "metadata": {
            "tags": null
          },
          "name": "stderr",
          "output_type": "stream",
          "text": [
            "100%|██████████| 967/967 [03:21<00:00,  4.79it/s]\n"
          ]
        },
        {
          "metadata": {
            "tags": null
          },
          "name": "stdout",
          "output_type": "stream",
          "text": [
            "generative loss:  3.5027658939361572  discriminative loss:  0.40226611495018005\n",
            "Starting epoch  27\n"
          ]
        },
        {
          "metadata": {
            "tags": null
          },
          "name": "stderr",
          "output_type": "stream",
          "text": [
            "100%|██████████| 967/967 [03:21<00:00,  4.79it/s]\n"
          ]
        },
        {
          "metadata": {
            "tags": null
          },
          "name": "stdout",
          "output_type": "stream",
          "text": [
            "generative loss:  4.013540744781494  discriminative loss:  0.39785778522491455\n",
            "Starting epoch  28\n"
          ]
        },
        {
          "metadata": {
            "tags": null
          },
          "name": "stderr",
          "output_type": "stream",
          "text": [
            "100%|██████████| 967/967 [02:29<00:00,  6.49it/s]\n"
          ]
        },
        {
          "metadata": {
            "tags": null
          },
          "name": "stdout",
          "output_type": "stream",
          "text": [
            "generative loss:  3.7437169551849365  discriminative loss:  0.4653446674346924\n",
            "Starting epoch  29\n"
          ]
        },
        {
          "metadata": {
            "tags": null
          },
          "name": "stderr",
          "output_type": "stream",
          "text": [
            "100%|██████████| 967/967 [03:21<00:00,  4.79it/s]\n"
          ]
        },
        {
          "metadata": {
            "tags": null
          },
          "name": "stdout",
          "output_type": "stream",
          "text": [
            "generative loss:  3.7375314235687256  discriminative loss:  0.4333227276802063\n",
            "Starting epoch  30\n"
          ]
        },
        {
          "metadata": {
            "tags": null
          },
          "name": "stderr",
          "output_type": "stream",
          "text": [
            "100%|██████████| 967/967 [02:34<00:00,  6.26it/s]\n"
          ]
        },
        {
          "metadata": {
            "tags": null
          },
          "name": "stdout",
          "output_type": "stream",
          "text": [
            "generative loss:  3.76383900642395  discriminative loss:  0.4192488193511963\n",
            "Starting epoch  31\n"
          ]
        },
        {
          "metadata": {
            "tags": null
          },
          "name": "stderr",
          "output_type": "stream",
          "text": [
            "100%|██████████| 967/967 [02:19<00:00,  6.92it/s]\n"
          ]
        },
        {
          "metadata": {
            "tags": null
          },
          "name": "stdout",
          "output_type": "stream",
          "text": [
            "generative loss:  3.771596908569336  discriminative loss:  0.4550090730190277\n",
            "Starting epoch  32\n"
          ]
        },
        {
          "metadata": {
            "tags": null
          },
          "name": "stderr",
          "output_type": "stream",
          "text": [
            "100%|██████████| 967/967 [02:20<00:00,  6.86it/s]\n"
          ]
        },
        {
          "metadata": {
            "tags": null
          },
          "name": "stdout",
          "output_type": "stream",
          "text": [
            "generative loss:  4.434063911437988  discriminative loss:  0.4313001334667206\n",
            "Starting epoch  33\n"
          ]
        },
        {
          "metadata": {
            "tags": null
          },
          "name": "stderr",
          "output_type": "stream",
          "text": [
            "100%|██████████| 967/967 [02:27<00:00,  6.54it/s]\n"
          ]
        },
        {
          "metadata": {
            "tags": null
          },
          "name": "stdout",
          "output_type": "stream",
          "text": [
            "generative loss:  4.3126349449157715  discriminative loss:  0.5513419508934021\n",
            "Starting epoch  34\n"
          ]
        },
        {
          "metadata": {
            "tags": null
          },
          "name": "stderr",
          "output_type": "stream",
          "text": [
            "100%|██████████| 967/967 [02:24<00:00,  6.67it/s]\n"
          ]
        },
        {
          "metadata": {
            "tags": null
          },
          "name": "stdout",
          "output_type": "stream",
          "text": [
            "generative loss:  1.9129252433776855  discriminative loss:  0.7590307593345642\n",
            "Starting epoch  35\n"
          ]
        },
        {
          "metadata": {
            "tags": null
          },
          "name": "stderr",
          "output_type": "stream",
          "text": [
            "100%|██████████| 967/967 [02:22<00:00,  6.79it/s]\n"
          ]
        },
        {
          "metadata": {
            "tags": null
          },
          "name": "stdout",
          "output_type": "stream",
          "text": [
            "generative loss:  6.390647888183594  discriminative loss:  0.3855164051055908\n",
            "Starting epoch  36\n"
          ]
        },
        {
          "metadata": {
            "tags": null
          },
          "name": "stderr",
          "output_type": "stream",
          "text": [
            "100%|██████████| 967/967 [03:21<00:00,  4.79it/s]\n"
          ]
        },
        {
          "metadata": {
            "tags": null
          },
          "name": "stdout",
          "output_type": "stream",
          "text": [
            "generative loss:  3.333792209625244  discriminative loss:  0.42432528734207153\n",
            "Starting epoch  37\n"
          ]
        },
        {
          "metadata": {
            "tags": null
          },
          "name": "stderr",
          "output_type": "stream",
          "text": [
            "100%|██████████| 967/967 [02:27<00:00,  6.56it/s]\n"
          ]
        },
        {
          "metadata": {
            "tags": null
          },
          "name": "stdout",
          "output_type": "stream",
          "text": [
            "generative loss:  5.659630298614502  discriminative loss:  0.5074780583381653\n",
            "Starting epoch  38\n"
          ]
        },
        {
          "metadata": {
            "tags": null
          },
          "name": "stderr",
          "output_type": "stream",
          "text": [
            "100%|██████████| 967/967 [02:34<00:00,  6.27it/s]\n"
          ]
        },
        {
          "metadata": {
            "tags": null
          },
          "name": "stdout",
          "output_type": "stream",
          "text": [
            "generative loss:  2.98885440826416  discriminative loss:  0.5041288733482361\n",
            "Starting epoch  39\n"
          ]
        },
        {
          "metadata": {
            "tags": null
          },
          "name": "stderr",
          "output_type": "stream",
          "text": [
            "100%|██████████| 967/967 [02:30<00:00,  6.41it/s]\n"
          ]
        },
        {
          "metadata": {
            "tags": null
          },
          "name": "stdout",
          "output_type": "stream",
          "text": [
            "generative loss:  4.600791931152344  discriminative loss:  0.38261350989341736\n",
            "Starting epoch  40\n"
          ]
        },
        {
          "metadata": {
            "tags": null
          },
          "name": "stderr",
          "output_type": "stream",
          "text": [
            "100%|██████████| 967/967 [03:21<00:00,  4.79it/s]\n"
          ]
        },
        {
          "metadata": {
            "tags": null
          },
          "name": "stdout",
          "output_type": "stream",
          "text": [
            "generative loss:  2.333014488220215  discriminative loss:  0.5138341784477234\n",
            "Starting epoch  41\n"
          ]
        },
        {
          "metadata": {
            "tags": null
          },
          "name": "stderr",
          "output_type": "stream",
          "text": [
            "100%|██████████| 967/967 [03:21<00:00,  4.79it/s]\n"
          ]
        },
        {
          "metadata": {
            "tags": null
          },
          "name": "stdout",
          "output_type": "stream",
          "text": [
            "generative loss:  2.6655759811401367  discriminative loss:  0.5427317023277283\n",
            "Starting epoch  42\n"
          ]
        },
        {
          "metadata": {
            "tags": null
          },
          "name": "stderr",
          "output_type": "stream",
          "text": [
            "100%|██████████| 967/967 [03:21<00:00,  4.79it/s]\n"
          ]
        },
        {
          "metadata": {
            "tags": null
          },
          "name": "stdout",
          "output_type": "stream",
          "text": [
            "generative loss:  5.278759002685547  discriminative loss:  0.39750105142593384\n",
            "Starting epoch  43\n"
          ]
        },
        {
          "metadata": {
            "tags": null
          },
          "name": "stderr",
          "output_type": "stream",
          "text": [
            "100%|██████████| 967/967 [03:21<00:00,  4.79it/s]\n"
          ]
        },
        {
          "metadata": {
            "tags": null
          },
          "name": "stdout",
          "output_type": "stream",
          "text": [
            "generative loss:  4.153359413146973  discriminative loss:  0.3764536678791046\n",
            "Starting epoch  44\n"
          ]
        },
        {
          "metadata": {
            "tags": null
          },
          "name": "stderr",
          "output_type": "stream",
          "text": [
            "100%|██████████| 967/967 [03:21<00:00,  4.79it/s]\n"
          ]
        },
        {
          "metadata": {
            "tags": null
          },
          "name": "stdout",
          "output_type": "stream",
          "text": [
            "generative loss:  3.2994437217712402  discriminative loss:  0.44719237089157104\n",
            "Starting epoch  45\n"
          ]
        },
        {
          "metadata": {
            "tags": null
          },
          "name": "stderr",
          "output_type": "stream",
          "text": [
            "100%|██████████| 967/967 [03:21<00:00,  4.79it/s]\n"
          ]
        },
        {
          "metadata": {
            "tags": null
          },
          "name": "stdout",
          "output_type": "stream",
          "text": [
            "generative loss:  3.2188687324523926  discriminative loss:  0.44397836923599243\n",
            "Starting epoch  46\n"
          ]
        },
        {
          "metadata": {
            "tags": null
          },
          "name": "stderr",
          "output_type": "stream",
          "text": [
            "100%|██████████| 967/967 [02:29<00:00,  6.47it/s]\n"
          ]
        },
        {
          "metadata": {
            "tags": null
          },
          "name": "stdout",
          "output_type": "stream",
          "text": [
            "generative loss:  5.033209800720215  discriminative loss:  0.4033500552177429\n",
            "Starting epoch  47\n"
          ]
        },
        {
          "metadata": {
            "tags": null
          },
          "name": "stderr",
          "output_type": "stream",
          "text": [
            "100%|██████████| 967/967 [02:30<00:00,  6.44it/s]\n"
          ]
        },
        {
          "metadata": {
            "tags": null
          },
          "name": "stdout",
          "output_type": "stream",
          "text": [
            "generative loss:  6.189250469207764  discriminative loss:  0.4111863970756531\n",
            "Starting epoch  48\n"
          ]
        },
        {
          "metadata": {
            "tags": null
          },
          "name": "stderr",
          "output_type": "stream",
          "text": [
            "100%|██████████| 967/967 [03:21<00:00,  4.79it/s]\n"
          ]
        },
        {
          "metadata": {
            "tags": null
          },
          "name": "stdout",
          "output_type": "stream",
          "text": [
            "generative loss:  4.595890998840332  discriminative loss:  0.3822370767593384\n",
            "Starting epoch  49\n"
          ]
        },
        {
          "metadata": {
            "tags": null
          },
          "name": "stderr",
          "output_type": "stream",
          "text": [
            "100%|██████████| 967/967 [03:21<00:00,  4.79it/s]\n"
          ]
        },
        {
          "metadata": {
            "tags": null
          },
          "name": "stdout",
          "output_type": "stream",
          "text": [
            "generative loss:  3.4842872619628906  discriminative loss:  0.43954089283943176\n",
            "Starting epoch  50\n"
          ]
        },
        {
          "metadata": {
            "tags": null
          },
          "name": "stderr",
          "output_type": "stream",
          "text": [
            "100%|██████████| 967/967 [02:33<00:00,  6.30it/s]\n"
          ]
        },
        {
          "metadata": {
            "tags": null
          },
          "name": "stdout",
          "output_type": "stream",
          "text": [
            "generative loss:  4.583714485168457  discriminative loss:  0.4247097969055176\n",
            "Starting epoch  51\n"
          ]
        },
        {
          "metadata": {
            "tags": null
          },
          "name": "stderr",
          "output_type": "stream",
          "text": [
            "100%|██████████| 967/967 [03:21<00:00,  4.79it/s]\n"
          ]
        },
        {
          "metadata": {
            "tags": null
          },
          "name": "stdout",
          "output_type": "stream",
          "text": [
            "generative loss:  5.0301923751831055  discriminative loss:  0.3915993869304657\n",
            "Starting epoch  52\n"
          ]
        },
        {
          "metadata": {
            "tags": null
          },
          "name": "stderr",
          "output_type": "stream",
          "text": [
            "100%|██████████| 967/967 [02:36<00:00,  6.20it/s]\n"
          ]
        },
        {
          "metadata": {
            "tags": null
          },
          "name": "stdout",
          "output_type": "stream",
          "text": [
            "generative loss:  5.845663070678711  discriminative loss:  0.5605529546737671\n",
            "Starting epoch  53\n"
          ]
        },
        {
          "metadata": {
            "tags": null
          },
          "name": "stderr",
          "output_type": "stream",
          "text": [
            "100%|██████████| 967/967 [02:34<00:00,  6.26it/s]\n"
          ]
        },
        {
          "metadata": {
            "tags": null
          },
          "name": "stdout",
          "output_type": "stream",
          "text": [
            "generative loss:  2.7828118801116943  discriminative loss:  0.5290855169296265\n",
            "Starting epoch  54\n"
          ]
        },
        {
          "metadata": {
            "tags": null
          },
          "name": "stderr",
          "output_type": "stream",
          "text": [
            "100%|██████████| 967/967 [03:21<00:00,  4.79it/s]\n"
          ]
        },
        {
          "metadata": {
            "tags": null
          },
          "name": "stdout",
          "output_type": "stream",
          "text": [
            "generative loss:  4.047154426574707  discriminative loss:  0.3648183345794678\n",
            "Starting epoch  55\n"
          ]
        },
        {
          "metadata": {
            "tags": null
          },
          "name": "stderr",
          "output_type": "stream",
          "text": [
            "100%|██████████| 967/967 [03:21<00:00,  4.79it/s]\n"
          ]
        },
        {
          "metadata": {
            "tags": null
          },
          "name": "stdout",
          "output_type": "stream",
          "text": [
            "generative loss:  4.734324932098389  discriminative loss:  0.3587886393070221\n",
            "Starting epoch  56\n"
          ]
        },
        {
          "metadata": {
            "tags": null
          },
          "name": "stderr",
          "output_type": "stream",
          "text": [
            "100%|██████████| 967/967 [03:21<00:00,  4.79it/s]\n"
          ]
        },
        {
          "metadata": {
            "tags": null
          },
          "name": "stdout",
          "output_type": "stream",
          "text": [
            "generative loss:  4.138100624084473  discriminative loss:  0.4719215929508209\n",
            "Starting epoch  57\n"
          ]
        },
        {
          "metadata": {
            "tags": null
          },
          "name": "stderr",
          "output_type": "stream",
          "text": [
            "100%|██████████| 967/967 [02:24<00:00,  6.68it/s]\n"
          ]
        },
        {
          "metadata": {
            "tags": null
          },
          "name": "stdout",
          "output_type": "stream",
          "text": [
            "generative loss:  5.0411787033081055  discriminative loss:  0.36282435059547424\n",
            "Starting epoch  58\n"
          ]
        },
        {
          "metadata": {
            "tags": null
          },
          "name": "stderr",
          "output_type": "stream",
          "text": [
            "100%|██████████| 967/967 [03:21<00:00,  4.79it/s]\n"
          ]
        },
        {
          "metadata": {
            "tags": null
          },
          "name": "stdout",
          "output_type": "stream",
          "text": [
            "generative loss:  4.6591596603393555  discriminative loss:  0.38219064474105835\n",
            "Starting epoch  59\n"
          ]
        },
        {
          "metadata": {
            "tags": null
          },
          "name": "stderr",
          "output_type": "stream",
          "text": [
            "100%|██████████| 967/967 [03:21<00:00,  4.79it/s]\n"
          ]
        },
        {
          "metadata": {
            "tags": null
          },
          "name": "stdout",
          "output_type": "stream",
          "text": [
            "generative loss:  4.8508195877075195  discriminative loss:  0.43799787759780884\n",
            "Starting epoch  60\n"
          ]
        },
        {
          "metadata": {
            "tags": null
          },
          "name": "stderr",
          "output_type": "stream",
          "text": [
            "100%|██████████| 967/967 [03:21<00:00,  4.79it/s]\n"
          ]
        },
        {
          "metadata": {
            "tags": null
          },
          "name": "stdout",
          "output_type": "stream",
          "text": [
            "generative loss:  4.689577102661133  discriminative loss:  0.38707736134529114\n",
            "Starting epoch  61\n"
          ]
        },
        {
          "metadata": {
            "tags": null
          },
          "name": "stderr",
          "output_type": "stream",
          "text": [
            "100%|██████████| 967/967 [03:21<00:00,  4.79it/s]\n"
          ]
        },
        {
          "metadata": {
            "tags": null
          },
          "name": "stdout",
          "output_type": "stream",
          "text": [
            "generative loss:  3.7616944313049316  discriminative loss:  0.4521394371986389\n",
            "Starting epoch  62\n"
          ]
        },
        {
          "metadata": {
            "tags": null
          },
          "name": "stderr",
          "output_type": "stream",
          "text": [
            "100%|██████████| 967/967 [02:36<00:00,  6.16it/s]\n"
          ]
        },
        {
          "metadata": {
            "tags": null
          },
          "name": "stdout",
          "output_type": "stream",
          "text": [
            "generative loss:  5.691154479980469  discriminative loss:  0.3762694001197815\n",
            "Starting epoch  63\n"
          ]
        },
        {
          "metadata": {
            "tags": null
          },
          "name": "stderr",
          "output_type": "stream",
          "text": [
            "100%|██████████| 967/967 [02:36<00:00,  6.19it/s]\n"
          ]
        },
        {
          "metadata": {
            "tags": null
          },
          "name": "stdout",
          "output_type": "stream",
          "text": [
            "generative loss:  6.028400421142578  discriminative loss:  0.3922988772392273\n",
            "Starting epoch  64\n"
          ]
        },
        {
          "metadata": {
            "tags": null
          },
          "name": "stderr",
          "output_type": "stream",
          "text": [
            "100%|██████████| 967/967 [02:35<00:00,  6.23it/s]\n"
          ]
        },
        {
          "metadata": {
            "tags": null
          },
          "name": "stdout",
          "output_type": "stream",
          "text": [
            "generative loss:  1.9616658687591553  discriminative loss:  0.6257632970809937\n",
            "Starting epoch  65\n"
          ]
        },
        {
          "metadata": {
            "tags": null
          },
          "name": "stderr",
          "output_type": "stream",
          "text": [
            "100%|██████████| 967/967 [03:21<00:00,  4.79it/s]\n"
          ]
        },
        {
          "metadata": {
            "tags": null
          },
          "name": "stdout",
          "output_type": "stream",
          "text": [
            "generative loss:  3.0615885257720947  discriminative loss:  0.6598601341247559\n",
            "Starting epoch  66\n"
          ]
        },
        {
          "metadata": {
            "tags": null
          },
          "name": "stderr",
          "output_type": "stream",
          "text": [
            "100%|██████████| 967/967 [03:21<00:00,  4.79it/s]\n"
          ]
        },
        {
          "metadata": {
            "tags": null
          },
          "name": "stdout",
          "output_type": "stream",
          "text": [
            "generative loss:  3.542686700820923  discriminative loss:  0.5493724346160889\n",
            "Starting epoch  67\n"
          ]
        },
        {
          "metadata": {
            "tags": null
          },
          "name": "stderr",
          "output_type": "stream",
          "text": [
            "100%|██████████| 967/967 [03:21<00:00,  4.79it/s]\n"
          ]
        },
        {
          "metadata": {
            "tags": null
          },
          "name": "stdout",
          "output_type": "stream",
          "text": [
            "generative loss:  3.724461078643799  discriminative loss:  0.3799181282520294\n",
            "Starting epoch  68\n"
          ]
        },
        {
          "metadata": {
            "tags": null
          },
          "name": "stderr",
          "output_type": "stream",
          "text": [
            "100%|██████████| 967/967 [03:21<00:00,  4.79it/s]\n"
          ]
        },
        {
          "metadata": {
            "tags": null
          },
          "name": "stdout",
          "output_type": "stream",
          "text": [
            "generative loss:  4.1081223487854  discriminative loss:  0.4048711657524109\n",
            "Starting epoch  69\n"
          ]
        },
        {
          "metadata": {
            "tags": null
          },
          "name": "stderr",
          "output_type": "stream",
          "text": [
            "100%|██████████| 967/967 [02:40<00:00,  6.04it/s]\n"
          ]
        },
        {
          "metadata": {
            "tags": null
          },
          "name": "stdout",
          "output_type": "stream",
          "text": [
            "generative loss:  3.144423484802246  discriminative loss:  0.41483423113822937\n",
            "Starting epoch  70\n"
          ]
        },
        {
          "metadata": {
            "tags": null
          },
          "name": "stderr",
          "output_type": "stream",
          "text": [
            "100%|██████████| 967/967 [03:21<00:00,  4.79it/s]\n"
          ]
        },
        {
          "metadata": {
            "tags": null
          },
          "name": "stdout",
          "output_type": "stream",
          "text": [
            "generative loss:  4.14066743850708  discriminative loss:  0.3743675649166107\n",
            "Starting epoch  71\n"
          ]
        },
        {
          "metadata": {
            "tags": null
          },
          "name": "stderr",
          "output_type": "stream",
          "text": [
            "100%|██████████| 967/967 [02:32<00:00,  6.35it/s]\n"
          ]
        },
        {
          "metadata": {
            "tags": null
          },
          "name": "stdout",
          "output_type": "stream",
          "text": [
            "generative loss:  3.356078624725342  discriminative loss:  0.5736881494522095\n",
            "Starting epoch  72\n"
          ]
        },
        {
          "metadata": {
            "tags": null
          },
          "name": "stderr",
          "output_type": "stream",
          "text": [
            "100%|██████████| 967/967 [02:32<00:00,  6.35it/s]\n"
          ]
        },
        {
          "metadata": {
            "tags": null
          },
          "name": "stdout",
          "output_type": "stream",
          "text": [
            "generative loss:  4.872702598571777  discriminative loss:  0.3813190460205078\n",
            "Starting epoch  73\n"
          ]
        },
        {
          "metadata": {
            "tags": null
          },
          "name": "stderr",
          "output_type": "stream",
          "text": [
            "100%|██████████| 967/967 [03:21<00:00,  4.79it/s]\n"
          ]
        },
        {
          "metadata": {
            "tags": null
          },
          "name": "stdout",
          "output_type": "stream",
          "text": [
            "generative loss:  4.429702281951904  discriminative loss:  0.3871072828769684\n",
            "Starting epoch  74\n"
          ]
        },
        {
          "output_type": "stream",
          "name": "stderr",
          "text": [
            "100%|██████████| 967/967 [03:21<00:00,  4.79it/s]"
          ]
        }
      ]
    },
    {
      "cell_type": "markdown",
      "metadata": {
        "id": "XX0KbmkONCrJ"
      },
      "source": [
        "My program didn't finish on epoch 80. It maybe because of internet disconection."
      ]
    },
    {
      "cell_type": "code",
      "metadata": {
        "colab": {
          "base_uri": "https://localhost:8080/"
        },
        "id": "D8MP1FANNc1K",
        "outputId": "ef063a31-b582-4649-b9fa-b5d7a8b277a8"
      },
      "source": [
        "%%shell\n",
        "jupyter nbconvert --to html /content/Lab09.ipynb"
      ],
      "execution_count": null,
      "outputs": [
        {
          "output_type": "stream",
          "name": "stdout",
          "text": [
            "[NbConvertApp] Converting notebook /content/Lab09.ipynb to html\n",
            "[NbConvertApp] ERROR | Notebook JSON is invalid: Additional properties are not allowed (u'metadata' was unexpected)\n",
            "\n",
            "Failed validating u'additionalProperties' in stream:\n",
            "\n",
            "On instance[u'cells'][11][u'outputs'][0]:\n",
            "{u'metadata': {u'tags': None},\n",
            " u'name': u'stdout',\n",
            " u'output_type': u'stream',\n",
            " u'text': u'Starting epoch  0\\n'}\n",
            "[NbConvertApp] Writing 347357 bytes to /content/Lab09.html\n"
          ]
        },
        {
          "output_type": "execute_result",
          "data": {
            "text/plain": [
              ""
            ]
          },
          "metadata": {},
          "execution_count": 5
        }
      ]
    }
  ]
}