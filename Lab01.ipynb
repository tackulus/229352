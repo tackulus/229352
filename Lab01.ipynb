{
  "nbformat": 4,
  "nbformat_minor": 0,
  "metadata": {
    "colab": {
      "name": "Lab01.ipynb",
      "provenance": [],
      "collapsed_sections": [],
      "authorship_tag": "ABX9TyOJSff7ejT+TaVzAMqmvWmg",
      "include_colab_link": true
    },
    "kernelspec": {
      "name": "python3",
      "display_name": "Python 3"
    },
    "language_info": {
      "name": "python"
    }
  },
  "cells": [
    {
      "cell_type": "markdown",
      "metadata": {
        "id": "view-in-github",
        "colab_type": "text"
      },
      "source": [
        "<a href=\"https://colab.research.google.com/github/tackulus/229352/blob/main/Lab01.ipynb\" target=\"_parent\"><img src=\"https://colab.research.google.com/assets/colab-badge.svg\" alt=\"Open In Colab\"/></a>"
      ]
    },
    {
      "cell_type": "markdown",
      "metadata": {
        "id": "bUK5Xhf7y1cK"
      },
      "source": [
        "## **Lab 01**\n",
        "\n",
        "---\n",
        "\n",
        "> **229352 Statistical Learning for Data Science 2**\n",
        "\n",
        "> **Kasidis Torcharoen (610510531)**"
      ]
    },
    {
      "cell_type": "code",
      "metadata": {
        "id": "0ckkLH-7UIA5"
      },
      "source": [
        "import numpy as np\n",
        "import pandas as pd"
      ],
      "execution_count": 1,
      "outputs": []
    },
    {
      "cell_type": "code",
      "metadata": {
        "id": "0akANp57URLB"
      },
      "source": [
        "from sklearn import datasets\n",
        "mnist = datasets.load_digits()"
      ],
      "execution_count": 2,
      "outputs": []
    },
    {
      "cell_type": "markdown",
      "metadata": {
        "id": "Q6fW5fljxlCw"
      },
      "source": [
        "**1.  Split the data into training, validation and test sets.**"
      ]
    },
    {
      "cell_type": "code",
      "metadata": {
        "id": "d_WzyMf2eSlE"
      },
      "source": [
        "from sklearn.preprocessing import StandardScaler\n",
        "from sklearn.model_selection import train_test_split\n",
        "\n",
        "scaler = StandardScaler()\n",
        "X = scaler.fit_transform(mnist.data)\n",
        "y = mnist.target\n",
        "X_train, X_test, y_train, y_test \\\n",
        "    = train_test_split(X, y, test_size=0.25, random_state=0)"
      ],
      "execution_count": 3,
      "outputs": []
    },
    {
      "cell_type": "markdown",
      "metadata": {
        "id": "8fxsHjabxttw"
      },
      "source": [
        "**2.  Train a k-nearest neighbor (kNN) model with the training set.  Then use the validation set to find the best value of k and the best distance metric. You can also use the cross-validation instead of the validation set.  In that case, you might want to take a look at *sklearn.model_selection.GridSearchCV*.**"
      ]
    },
    {
      "cell_type": "code",
      "metadata": {
        "colab": {
          "base_uri": "https://localhost:8080/"
        },
        "id": "ZvRgp15rfRLu",
        "outputId": "fa21b024-8dbe-4c2d-a5e0-258e0c17c0e8"
      },
      "source": [
        "from sklearn.model_selection import GridSearchCV\n",
        "from sklearn.neighbors import KNeighborsClassifier\n",
        "\n",
        "knn = KNeighborsClassifier()\n",
        "parameters = {\"n_neighbors\": range(1,11), \n",
        "              \"metric\": [\"minkowski\"],\n",
        "              \"p\": range(1,4)}\n",
        "knn_best = GridSearchCV(knn, parameters, cv=5)\n",
        "knn_best.fit(X_train,y_train)\n",
        "knn_best.best_params_"
      ],
      "execution_count": 4,
      "outputs": [
        {
          "output_type": "execute_result",
          "data": {
            "text/plain": [
              "{'metric': 'minkowski', 'n_neighbors': 3, 'p': 1}"
            ]
          },
          "metadata": {
            "tags": []
          },
          "execution_count": 4
        }
      ]
    },
    {
      "cell_type": "markdown",
      "metadata": {
        "id": "OTucSZ-0yIGq"
      },
      "source": [
        "**3.  Report the test accuracy of the kNN model with the value of k and the distance metric obtained above.**"
      ]
    },
    {
      "cell_type": "code",
      "metadata": {
        "colab": {
          "base_uri": "https://localhost:8080/"
        },
        "id": "-qecqm2yyiF1",
        "outputId": "d7757afa-37bd-47c2-b7da-1f3fe72932ca"
      },
      "source": [
        "knn_best.score(X_test, y_test)"
      ],
      "execution_count": 5,
      "outputs": [
        {
          "output_type": "execute_result",
          "data": {
            "text/plain": [
              "0.98"
            ]
          },
          "metadata": {
            "tags": []
          },
          "execution_count": 5
        }
      ]
    },
    {
      "cell_type": "markdown",
      "metadata": {
        "id": "bL67YI295t7N"
      },
      "source": [
        "**4.  Show at least two images that the model mis-classifies.  For both images, what are the actual numbers and what are the model’s predictions?**"
      ]
    },
    {
      "cell_type": "code",
      "metadata": {
        "id": "rqTgYlhQuXf1"
      },
      "source": [
        "preds = knn_best.predict(X)\n",
        "answer = np.equal(preds, y)\n",
        "mis_indexs = [i for i,u in enumerate(answer) if not u]"
      ],
      "execution_count": 6,
      "outputs": []
    },
    {
      "cell_type": "code",
      "metadata": {
        "colab": {
          "base_uri": "https://localhost:8080/",
          "height": 299
        },
        "id": "s29VSx7sGelu",
        "outputId": "fd32fa86-4391-4543-9e28-1378403ef2a0"
      },
      "source": [
        "import random as rnd\n",
        "import matplotlib.pyplot as plt\n",
        "\n",
        "plt.figure(figsize=(10,6))\n",
        "index = rnd.sample(mis_indexs, 2)\n",
        "for i,j in enumerate(index):\n",
        "    plt.subplot(1, 2, i+1)\n",
        "    plt.tick_params(axis='x', which='both', bottom=False, top=False, labelbottom=False)\n",
        "    plt.tick_params(axis='y', which='both', left=False, right=False, labelleft=False)\n",
        "    plt.imshow(mnist.images[j], cmap=\"binary\")\n",
        "    plt.xlabel(f\"Actual: {y[j]}, Predict: {preds[j]}\")\n",
        "plt.show()"
      ],
      "execution_count": 7,
      "outputs": [
        {
          "output_type": "display_data",
          "data": {
            "image/png": "[encoded data removed]",
            "text/plain": [
              "<Figure size 720x432 with 2 Axes>"
            ]
          },
          "metadata": {
            "tags": []
          }
        }
      ]
    },
    {
      "cell_type": "code",
      "metadata": {
        "colab": {
          "base_uri": "https://localhost:8080/"
        },
        "id": "vgVwuqfeN42F",
        "outputId": "1d7775cf-512e-4704-ea49-839cd8f9c6aa"
      },
      "source": [
        "%%shell\n",
        "jupyter nbconvert --to html /content/Lab01.ipynb"
      ],
      "execution_count": 8,
      "outputs": [
        {
          "output_type": "stream",
          "text": [
            "[NbConvertApp] Converting notebook /content/Lab01.ipynb to html\n",
            "[NbConvertApp] Writing 290131 bytes to /content/Lab01.html\n"
          ],
          "name": "stdout"
        },
        {
          "output_type": "execute_result",
          "data": {
            "text/plain": [
              ""
            ]
          },
          "metadata": {
            "tags": []
          },
          "execution_count": 8
        }
      ]
    }
  ]
}