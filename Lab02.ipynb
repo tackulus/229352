{
  "nbformat": 4,
  "nbformat_minor": 0,
  "metadata": {
    "colab": {
      "name": "Lab02.ipynb",
      "provenance": [],
      "authorship_tag": "ABX9TyMV0ogtJJxhOC5YA+aGjumD",
      "include_colab_link": true
    },
    "kernelspec": {
      "name": "python3",
      "display_name": "Python 3"
    },
    "language_info": {
      "name": "python"
    }
  },
  "cells": [
    {
      "cell_type": "markdown",
      "metadata": {
        "id": "view-in-github",
        "colab_type": "text"
      },
      "source": [
        "<a href=\"https://colab.research.google.com/github/tackulus/229352/blob/main/Lab02.ipynb\" target=\"_parent\"><img src=\"https://colab.research.google.com/assets/colab-badge.svg\" alt=\"Open In Colab\"/></a>"
      ]
    },
    {
      "cell_type": "code",
      "metadata": {
        "id": "MZWSHf91kRn0"
      },
      "source": [
        "%%capture\n",
        "import numpy as np\n",
        "!wget -O dataset.csv \\\n",
        "    https://raw.githubusercontent.com/tackulus/229352/main/dataset/US-representatives-votes.csv"
      ],
      "execution_count": null,
      "outputs": []
    },
    {
      "cell_type": "markdown",
      "metadata": {
        "id": "5LCedVKkl_EZ"
      },
      "source": [
        "**1. Set the Numpy’s random seed.**\n",
        "\n"
      ]
    },
    {
      "cell_type": "code",
      "metadata": {
        "id": "Uc_H2-jnmHOs"
      },
      "source": [
        "np.random.seed(0)"
      ],
      "execution_count": null,
      "outputs": []
    },
    {
      "cell_type": "markdown",
      "metadata": {
        "id": "NbejPomkmg-L"
      },
      "source": [
        "**2. Split the data into a training set and a test set.**"
      ]
    },
    {
      "cell_type": "code",
      "metadata": {
        "id": "mtVMt3vdlzA3"
      },
      "source": [
        "data = np.genfromtxt('dataset.csv', delimiter=',')\n",
        "\n",
        "X, y = data[:,1:], data[:,0]"
      ],
      "execution_count": null,
      "outputs": []
    },
    {
      "cell_type": "code",
      "metadata": {
        "id": "SKAkRfLtpo6U"
      },
      "source": [
        "from sklearn.model_selection import train_test_split\n",
        "\n",
        "indexs = {}\n",
        "\n",
        "indexs['train'], indexs['test'] \\\n",
        "    = train_test_split(range(len(data)), test_size=0.25, random_state=0)\n",
        "\n",
        "indexs = {key: sorted(val) for key,val in indexs.items()}\n",
        "\n",
        "X_train, X_test = X[indexs['train']], X[indexs['test']]\n",
        "y_train, y_test = y[indexs['train']], y[indexs['test']]"
      ],
      "execution_count": null,
      "outputs": []
    },
    {
      "cell_type": "markdown",
      "metadata": {
        "id": "J3C9obMyoHYi"
      },
      "source": [
        "**3. Create an array Count of shape (2,16,2), where Count[l,d,j] is the number of instances in the training set whose class is l and whose d-th feature is j.**\n",
        "\n",
        "**In other words, Count[l,d,j] = #(d-th feature = j and Class = l).**"
      ]
    },
    {
      "cell_type": "code",
      "metadata": {
        "id": "QZFp11A40duc"
      },
      "source": [
        "Count = np.zeros((2,16,2))\n",
        "for i in indexs['train']:\n",
        "    l = int(y[i])\n",
        "    for d in range(16):\n",
        "        j = int(X[i,d])\n",
        "        Count[l,d,j] += 1"
      ],
      "execution_count": null,
      "outputs": []
    },
    {
      "cell_type": "markdown",
      "metadata": {
        "id": "yvQsNu6s2iiD"
      },
      "source": [
        "**4. Use Count to create another array Prob of shape (2,16,2), where Prob[l,d,j] is given by**\n",
        "\n",
        "**Prob[l,d,j] = P (d-th feature = j | Class = l)**"
      ]
    },
    {
      "cell_type": "code",
      "metadata": {
        "id": "ySeKkcXU2MCQ"
      },
      "source": [
        "Prob = np.zeros((2,16,2))\n",
        "\n",
        "for l in range(2): \n",
        "    num = sum(Count[l,0,:])\n",
        "    for d in range(16): \n",
        "        for j in range(2):\n",
        "            Prob[l,d,j] = Count[l,d,j] / num"
      ],
      "execution_count": null,
      "outputs": []
    },
    {
      "cell_type": "markdown",
      "metadata": {
        "id": "yWM6yav568l-"
      },
      "source": [
        "**5. To verify that you did the calculations correctly, check if the sum of each row in Prob[0] and Prob[1] are equal to 1.**"
      ]
    },
    {
      "cell_type": "code",
      "metadata": {
        "colab": {
          "base_uri": "https://localhost:8080/"
        },
        "id": "pfIOTabZ40cz",
        "outputId": "f58c7e05-175e-4224-c40d-1196868068c9"
      },
      "source": [
        "# Prob[0]\n",
        "u = Prob[0,:,0] + Prob[0,:,1]\n",
        "(u == 1).all()"
      ],
      "execution_count": null,
      "outputs": [
        {
          "output_type": "execute_result",
          "data": {
            "text/plain": [
              "True"
            ]
          },
          "metadata": {
            "tags": []
          },
          "execution_count": 68
        }
      ]
    },
    {
      "cell_type": "code",
      "metadata": {
        "colab": {
          "base_uri": "https://localhost:8080/"
        },
        "id": "VRoq4hP37NWj",
        "outputId": "7b0bcd80-58b8-4b0c-dabd-c9560bfe884e"
      },
      "source": [
        "# Prob[1]\n",
        "u = Prob[1,:,0] + Prob[1,:,1]\n",
        "(u == 1).all()"
      ],
      "execution_count": null,
      "outputs": [
        {
          "output_type": "execute_result",
          "data": {
            "text/plain": [
              "True"
            ]
          },
          "metadata": {
            "tags": []
          },
          "execution_count": 69
        }
      ]
    },
    {
      "cell_type": "markdown",
      "metadata": {
        "id": "eU8T7Mkt7acs"
      },
      "source": [
        "**6. Use Prob to classify each representative in the test set. Report the accuracy of your predictions (Note: I suggest computing the sum of log-probabilities instead of the product of probabilities to prevent numerical underflow).**"
      ]
    },
    {
      "cell_type": "code",
      "metadata": {
        "id": "jV7HNjh1_xSM"
      },
      "source": [
        "def predict(X):\n",
        "    for val in x:"
      ],
      "execution_count": null,
      "outputs": []
    }
  ]
}