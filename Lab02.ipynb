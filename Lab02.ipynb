{
  "nbformat": 4,
  "nbformat_minor": 0,
  "metadata": {
    "colab": {
      "name": "Lab02.ipynb",
      "provenance": [],
      "authorship_tag": "ABX9TyM/Da0akqu/Cd4pekjGK5iO",
      "include_colab_link": true
    },
    "kernelspec": {
      "name": "python3",
      "display_name": "Python 3"
    },
    "language_info": {
      "name": "python"
    }
  },
  "cells": [
    {
      "cell_type": "markdown",
      "metadata": {
        "id": "view-in-github",
        "colab_type": "text"
      },
      "source": [
        "<a href=\"https://colab.research.google.com/github/tackulus/229352/blob/main/Lab02.ipynb\" target=\"_parent\"><img src=\"https://colab.research.google.com/assets/colab-badge.svg\" alt=\"Open In Colab\"/></a>"
      ]
    },
    {
      "cell_type": "markdown",
      "metadata": {
        "id": "bUK5Xhf7y1cK"
      },
      "source": [
        "## **Lab 02**\n",
        "\n",
        "---\n",
        "\n",
        "> **229352 Statistical Learning for Data Science 2**\n",
        "\n",
        "> **Kasidis Torcharoen (610510531)**"
      ]
    },
    {
      "cell_type": "code",
      "metadata": {
        "id": "MZWSHf91kRn0"
      },
      "source": [
        "%%capture\n",
        "import numpy as np\n",
        "!wget -O dataset.csv \\\n",
        "    https://raw.githubusercontent.com/tackulus/229352/main/dataset/US-representatives-votes.csv"
      ],
      "execution_count": 1,
      "outputs": []
    },
    {
      "cell_type": "markdown",
      "metadata": {
        "id": "5LCedVKkl_EZ"
      },
      "source": [
        "**1. Set the Numpy’s random seed.**\n",
        "\n"
      ]
    },
    {
      "cell_type": "code",
      "metadata": {
        "id": "Uc_H2-jnmHOs"
      },
      "source": [
        "np.random.seed(0)"
      ],
      "execution_count": 2,
      "outputs": []
    },
    {
      "cell_type": "markdown",
      "metadata": {
        "id": "NbejPomkmg-L"
      },
      "source": [
        "**2. Split the data into a training set and a test set.**"
      ]
    },
    {
      "cell_type": "code",
      "metadata": {
        "id": "mtVMt3vdlzA3"
      },
      "source": [
        "data = np.genfromtxt('dataset.csv', delimiter=',')\n",
        "\n",
        "X, y = data[:,1:], data[:,0]"
      ],
      "execution_count": 3,
      "outputs": []
    },
    {
      "cell_type": "code",
      "metadata": {
        "id": "SKAkRfLtpo6U"
      },
      "source": [
        "indexs, size = {}, len(data)\n",
        "indexs['test']  = np.random.choice(range(size), size=int(0.25*size), replace=False)\n",
        "indexs['train'] = [ n for n in range(size) if n not in indexs['test'] ]\n",
        "indexs = {key: sorted(val) for key,val in indexs.items()}\n",
        "\n",
        "X_train, X_test = X[indexs['train']], X[indexs['test']]\n",
        "y_train, y_test = y[indexs['train']], y[indexs['test']]"
      ],
      "execution_count": 4,
      "outputs": []
    },
    {
      "cell_type": "markdown",
      "metadata": {
        "id": "J3C9obMyoHYi"
      },
      "source": [
        "**3. Create an array Count of shape (2,16,2), where Count[l,d,j] is the number of instances in the training set whose class is l and whose d-th feature is j.**\n",
        "\n",
        "**In other words, Count[l,d,j] = #(d-th feature = j and Class = l).**"
      ]
    },
    {
      "cell_type": "code",
      "metadata": {
        "id": "QZFp11A40duc"
      },
      "source": [
        "Count = np.zeros((2,16,2))\n",
        "for i in indexs['train']:\n",
        "    l = int(y[i])\n",
        "    for d in range(16):\n",
        "        j = int(X[i,d])\n",
        "        Count[l,d,j] += 1"
      ],
      "execution_count": 5,
      "outputs": []
    },
    {
      "cell_type": "markdown",
      "metadata": {
        "id": "yvQsNu6s2iiD"
      },
      "source": [
        "**4. Use Count to create another array Prob of shape (2,16,2), where Prob[l,d,j] is given by**\n",
        "\n",
        "**Prob[l,d,j] = P (d-th feature = j | Class = l)**"
      ]
    },
    {
      "cell_type": "code",
      "metadata": {
        "id": "ySeKkcXU2MCQ"
      },
      "source": [
        "Prob = np.zeros((2,16,2))\n",
        "\n",
        "for l in range(2): \n",
        "    num = sum(Count[l,0,:])\n",
        "    for d in range(16): \n",
        "        for j in range(2):\n",
        "            Prob[l,d,j] = Count[l,d,j] / num"
      ],
      "execution_count": 6,
      "outputs": []
    },
    {
      "cell_type": "markdown",
      "metadata": {
        "id": "yWM6yav568l-"
      },
      "source": [
        "**5. To verify that you did the calculations correctly, check if the sum of each row in Prob[0] and Prob[1] are equal to 1.**"
      ]
    },
    {
      "cell_type": "code",
      "metadata": {
        "colab": {
          "base_uri": "https://localhost:8080/"
        },
        "id": "pfIOTabZ40cz",
        "outputId": "f014c910-56b0-4fb6-8a44-09aa0df7241d"
      },
      "source": [
        "# Prob[0]\n",
        "u = Prob[0,:,0] + Prob[0,:,1]\n",
        "(u == 1).all()"
      ],
      "execution_count": 7,
      "outputs": [
        {
          "output_type": "execute_result",
          "data": {
            "text/plain": [
              "True"
            ]
          },
          "metadata": {
            "tags": []
          },
          "execution_count": 7
        }
      ]
    },
    {
      "cell_type": "code",
      "metadata": {
        "colab": {
          "base_uri": "https://localhost:8080/"
        },
        "id": "VRoq4hP37NWj",
        "outputId": "c5be9de5-111d-442e-9c68-91b886adfff7"
      },
      "source": [
        "# Prob[1]\n",
        "u = Prob[1,:,0] + Prob[1,:,1]\n",
        "(u == 1).all()"
      ],
      "execution_count": 8,
      "outputs": [
        {
          "output_type": "execute_result",
          "data": {
            "text/plain": [
              "True"
            ]
          },
          "metadata": {
            "tags": []
          },
          "execution_count": 8
        }
      ]
    },
    {
      "cell_type": "markdown",
      "metadata": {
        "id": "eU8T7Mkt7acs"
      },
      "source": [
        "**6. Use Prob to classify each representative in the test set. Report the accuracy of your predictions (Note: I suggest computing the sum of log-probabilities instead of the product of probabilities to prevent numerical underflow).**"
      ]
    },
    {
      "cell_type": "code",
      "metadata": {
        "id": "jV7HNjh1_xSM"
      },
      "source": [
        "def predict(x):\n",
        "    def f(x, j):\n",
        "        return sum([ np.log(Prob[j,i,int(x[i])]) for i in range(16) ])\n",
        "\n",
        "    a0, a1 = f(x,0), f(x,1)\n",
        "    return int( a0 < a1 )\n",
        "\n",
        "y_pred = np.apply_along_axis(predict, 1, X_test)"
      ],
      "execution_count": 9,
      "outputs": []
    },
    {
      "cell_type": "code",
      "metadata": {
        "colab": {
          "base_uri": "https://localhost:8080/"
        },
        "id": "hOxOjUAdgYfa",
        "outputId": "cdf506b2-a434-4045-afa8-c97d4b5d0a44"
      },
      "source": [
        "accuracy = sum( y_pred == y_test ) / len(y_pred)\n",
        "accuracy"
      ],
      "execution_count": 10,
      "outputs": [
        {
          "output_type": "execute_result",
          "data": {
            "text/plain": [
              "0.8796296296296297"
            ]
          },
          "metadata": {
            "tags": []
          },
          "execution_count": 10
        }
      ]
    }
  ]
}