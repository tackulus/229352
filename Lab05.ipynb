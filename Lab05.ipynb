{
  "nbformat": 4,
  "nbformat_minor": 0,
  "metadata": {
    "colab": {
      "name": "Lab05.ipynb",
      "provenance": [],
      "collapsed_sections": [],
      "authorship_tag": "ABX9TyOSi7rEe9waBAihQgqtlkxX",
      "include_colab_link": true
    },
    "kernelspec": {
      "name": "python3",
      "display_name": "Python 3"
    },
    "language_info": {
      "name": "python"
    }
  },
  "cells": [
    {
      "cell_type": "markdown",
      "metadata": {
        "id": "view-in-github",
        "colab_type": "text"
      },
      "source": [
        "<a href=\"https://colab.research.google.com/github/tackulus/229352/blob/main/Lab05.ipynb\" target=\"_parent\"><img src=\"https://colab.research.google.com/assets/colab-badge.svg\" alt=\"Open In Colab\"/></a>"
      ]
    },
    {
      "cell_type": "code",
      "metadata": {
        "colab": {
          "base_uri": "https://localhost:8080/"
        },
        "id": "DpWBYzed4gMW",
        "outputId": "5f485f3c-f976-4e6f-aec7-03f78063de1a"
      },
      "source": [
        "!git clone https://github.com/tackulus/229352.git"
      ],
      "execution_count": 6,
      "outputs": [
        {
          "output_type": "stream",
          "text": [
            "Cloning into '229352'...\n",
            "remote: Enumerating objects: 69, done.\u001b[K\n",
            "remote: Counting objects: 100% (69/69), done.\u001b[K\n",
            "remote: Compressing objects: 100% (66/66), done.\u001b[K\n",
            "remote: Total 69 (delta 26), reused 0 (delta 0), pack-reused 0\u001b[K\n",
            "Unpacking objects: 100% (69/69), done.\n"
          ],
          "name": "stdout"
        }
      ]
    },
    {
      "cell_type": "code",
      "metadata": {
        "id": "V_IjgATF6zqI"
      },
      "source": [
        "import numpy as np\n",
        "import pandas as pd"
      ],
      "execution_count": 1,
      "outputs": []
    },
    {
      "cell_type": "code",
      "metadata": {
        "id": "aAVfL15b6vVr"
      },
      "source": [
        "paths = [\n",
        "    \"/content/229352/dataset/Lab05_X_train.csv\",\n",
        "    \"/content/229352/dataset/Lab05_X_test.csv\",\n",
        "    \"/content/229352/dataset/Lab05_y_train.csv\",\n",
        "    \"/content/229352/dataset/Lab05_y_test.csv\"\n",
        "]\n",
        "\n",
        "X_train = pd.read_csv(paths[0], header=None)\n",
        "X_test = pd.read_csv(paths[1], header=None)\n",
        "y_train = pd.read_csv(paths[2], header=None)\n",
        "y_test = pd.read_csv(paths[3], header=None)"
      ],
      "execution_count": 7,
      "outputs": []
    },
    {
      "cell_type": "markdown",
      "metadata": {
        "id": "hGBAERx5uE5b"
      },
      "source": [
        "# Bagging"
      ]
    },
    {
      "cell_type": "code",
      "metadata": {
        "colab": {
          "base_uri": "https://localhost:8080/",
          "height": 207
        },
        "id": "v4Pi8S-X82K1",
        "outputId": "3c2bc0a5-7778-48be-f64e-9c9c6cdbe5b4"
      },
      "source": [
        "from sklearn.tree import DecisionTreeClassifier\n",
        "\n",
        "clf = DecisionTreeClassifier(\n",
        "    criterion=\"entropy\",\n",
        "    max_depth=3\n",
        ")\n",
        "\n",
        "clf.fit(X_train,y_train)\n",
        "clf.best_params_"
      ],
      "execution_count": 47,
      "outputs": [
        {
          "output_type": "error",
          "ename": "AttributeError",
          "evalue": "ignored",
          "traceback": [
            "\u001b[0;31m---------------------------------------------------------------------------\u001b[0m",
            "\u001b[0;31mAttributeError\u001b[0m                            Traceback (most recent call last)",
            "\u001b[0;32m<ipython-input-47-3751eb21390e>\u001b[0m in \u001b[0;36m<module>\u001b[0;34m()\u001b[0m\n\u001b[1;32m      7\u001b[0m \u001b[0;34m\u001b[0m\u001b[0m\n\u001b[1;32m      8\u001b[0m \u001b[0mclf\u001b[0m\u001b[0;34m.\u001b[0m\u001b[0mfit\u001b[0m\u001b[0;34m(\u001b[0m\u001b[0mX_train\u001b[0m\u001b[0;34m,\u001b[0m\u001b[0my_train\u001b[0m\u001b[0;34m)\u001b[0m\u001b[0;34m\u001b[0m\u001b[0;34m\u001b[0m\u001b[0m\n\u001b[0;32m----> 9\u001b[0;31m \u001b[0mclf\u001b[0m\u001b[0;34m.\u001b[0m\u001b[0mbest_params_\u001b[0m\u001b[0;34m\u001b[0m\u001b[0;34m\u001b[0m\u001b[0m\n\u001b[0m",
            "\u001b[0;31mAttributeError\u001b[0m: 'DecisionTreeClassifier' object has no attribute 'best_params_'"
          ]
        }
      ]
    },
    {
      "cell_type": "markdown",
      "metadata": {
        "id": "EBNC8iRJt42L"
      },
      "source": [
        "# Random Forest"
      ]
    },
    {
      "cell_type": "code",
      "metadata": {
        "id": "lFNAH54mEinO"
      },
      "source": [
        "from sklearn.ensemble import RandomForestClassifier\n",
        "\n",
        "noT = range(1, 102)\n",
        "arr = []\n",
        "for j in range(10):\n",
        "    accuracy = []\n",
        "    for i in noT:\n",
        "        clf = RandomForestClassifier(\n",
        "            criterion=\"entropy\", \n",
        "            max_depth=3, \n",
        "            max_features=4,\n",
        "            n_estimators=i\n",
        "        )\n",
        "        \n",
        "        clf.fit(X_train, y_train.to_numpy().ravel())\n",
        "        score = clf.score(X_test, y_test)\n",
        "        accuracy.append(score)\n",
        "    arr.append(accuracy)\n",
        "\n",
        "arr = np.array(arr)\n",
        "accuracy2 = np.mean(arr, axis=0)"
      ],
      "execution_count": 9,
      "outputs": []
    },
    {
      "cell_type": "code",
      "metadata": {
        "colab": {
          "base_uri": "https://localhost:8080/",
          "height": 265
        },
        "id": "PZD78_jEGG0r",
        "outputId": "92288649-3b0b-41bf-ec02-e336e809ab87"
      },
      "source": [
        "import matplotlib.pyplot as plt\n",
        "\n",
        "plt.plot(noT, accuracy2)\n",
        "plt.show()"
      ],
      "execution_count": 10,
      "outputs": [
        {
          "output_type": "display_data",
          "data": {
            "image/png": "[encoded data removed]",
            "text/plain": [
              "<Figure size 432x288 with 1 Axes>"
            ]
          },
          "metadata": {
            "tags": [],
            "needs_background": "light"
          }
        }
      ]
    },
    {
      "cell_type": "markdown",
      "metadata": {
        "id": "hU5jwA9St9ID"
      },
      "source": [
        "# AdaBoost"
      ]
    },
    {
      "cell_type": "code",
      "metadata": {
        "id": "a7YpPhN2Q5N2"
      },
      "source": [
        "from sklearn.ensemble import AdaBoostClassifier\n",
        "\n",
        "noT = range(1, 102)\n",
        "accuracy = []\n",
        "for i in noTree:\n",
        "    clf = AdaBoostClassifier(\n",
        "        n_estimators=i\n",
        "    )\n",
        "    \n",
        "    clf.fit(X_train, y_train.to_numpy().ravel())\n",
        "    score = clf.score(X_test, y_test)\n",
        "    accuracy.append(score)"
      ],
      "execution_count": 60,
      "outputs": []
    },
    {
      "cell_type": "code",
      "metadata": {
        "id": "RaAJdUdosgyK"
      },
      "source": [
        "from sklearn.ensemble import AdaBoostClassifier\n",
        "\n",
        "noT = range(1, 102)\n",
        "arr = []\n",
        "for j in range(10):\n",
        "    accuracy = []\n",
        "    for i in noT:\n",
        "        clf = AdaBoostClassifier(\n",
        "            n_estimators=i\n",
        "        )\n",
        "        \n",
        "        clf.fit(X_train, y_train.to_numpy().ravel())\n",
        "        score = clf.score(X_test, y_test)\n",
        "        accuracy.append(score)\n",
        "    arr.append(accuracy)\n",
        "\n",
        "arr = np.array(arr)\n",
        "accuracy3 = np.mean(arr, axis=0)"
      ],
      "execution_count": 19,
      "outputs": []
    },
    {
      "cell_type": "code",
      "metadata": {
        "colab": {
          "base_uri": "https://localhost:8080/"
        },
        "id": "yaXQ-643vDhR",
        "outputId": "e0ef5847-0237-428b-e27d-2c69cbfe66a5"
      },
      "source": [
        "accuracy3"
      ],
      "execution_count": 20,
      "outputs": [
        {
          "output_type": "execute_result",
          "data": {
            "text/plain": [
              "array([0.69230769, 0.67032967, 0.83516484, 0.81318681, 0.8021978 ,\n",
              "       0.8021978 , 0.82417582, 0.8021978 , 0.81318681, 0.8021978 ,\n",
              "       0.82417582, 0.81318681, 0.8021978 , 0.83516484, 0.79120879,\n",
              "       0.82417582, 0.79120879, 0.8021978 , 0.79120879, 0.8021978 ,\n",
              "       0.81318681, 0.79120879, 0.78021978, 0.79120879, 0.78021978,\n",
              "       0.81318681, 0.8021978 , 0.8021978 , 0.81318681, 0.81318681,\n",
              "       0.81318681, 0.8021978 , 0.81318681, 0.81318681, 0.81318681,\n",
              "       0.81318681, 0.82417582, 0.82417582, 0.82417582, 0.82417582,\n",
              "       0.8021978 , 0.8021978 , 0.81318681, 0.79120879, 0.79120879,\n",
              "       0.8021978 , 0.81318681, 0.8021978 , 0.8021978 , 0.8021978 ,\n",
              "       0.81318681, 0.8021978 , 0.81318681, 0.81318681, 0.81318681,\n",
              "       0.8021978 , 0.81318681, 0.81318681, 0.8021978 , 0.8021978 ,\n",
              "       0.8021978 , 0.8021978 , 0.81318681, 0.81318681, 0.82417582,\n",
              "       0.81318681, 0.79120879, 0.79120879, 0.81318681, 0.78021978,\n",
              "       0.81318681, 0.79120879, 0.79120879, 0.78021978, 0.79120879,\n",
              "       0.78021978, 0.79120879, 0.79120879, 0.79120879, 0.76923077,\n",
              "       0.76923077, 0.75824176, 0.78021978, 0.78021978, 0.78021978,\n",
              "       0.79120879, 0.76923077, 0.79120879, 0.79120879, 0.79120879,\n",
              "       0.79120879, 0.79120879, 0.79120879, 0.79120879, 0.78021978,\n",
              "       0.8021978 , 0.79120879, 0.79120879, 0.78021978, 0.79120879,\n",
              "       0.79120879])"
            ]
          },
          "metadata": {
            "tags": []
          },
          "execution_count": 20
        }
      ]
    },
    {
      "cell_type": "code",
      "metadata": {
        "colab": {
          "base_uri": "https://localhost:8080/",
          "height": 265
        },
        "id": "rqQsfK-lSI78",
        "outputId": "7caa527d-f570-4aa0-cb2b-1cda395f5b9b"
      },
      "source": [
        "plt.plot(noT, accuracy3)\n",
        "plt.show()"
      ],
      "execution_count": 21,
      "outputs": [
        {
          "output_type": "display_data",
          "data": {
            "image/png": "[encoded data removed]",
            "text/plain": [
              "<Figure size 432x288 with 1 Axes>"
            ]
          },
          "metadata": {
            "tags": [],
            "needs_background": "light"
          }
        }
      ]
    }
  ]
}