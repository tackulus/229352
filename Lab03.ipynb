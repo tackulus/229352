{
  "nbformat": 4,
  "nbformat_minor": 0,
  "metadata": {
    "colab": {
      "name": "Lab03.ipynb",
      "provenance": [],
      "collapsed_sections": [],
      "authorship_tag": "ABX9TyPzGToFWCzm2dlchpgF0Z6A",
      "include_colab_link": true
    },
    "kernelspec": {
      "name": "python3",
      "display_name": "Python 3"
    },
    "language_info": {
      "name": "python"
    }
  },
  "cells": [
    {
      "cell_type": "markdown",
      "metadata": {
        "id": "view-in-github",
        "colab_type": "text"
      },
      "source": [
        "<a href=\"https://colab.research.google.com/github/tackulus/229352/blob/main/Lab03.ipynb\" target=\"_parent\"><img src=\"https://colab.research.google.com/assets/colab-badge.svg\" alt=\"Open In Colab\"/></a>"
      ]
    },
    {
      "cell_type": "markdown",
      "metadata": {
        "id": "bUK5Xhf7y1cK"
      },
      "source": [
        "## **Lab 03**\n",
        "\n",
        "---\n",
        "\n",
        "> **229352 Statistical Learning for Data Science 2**\n",
        "\n",
        "> **Kasidis Torcharoen (610510531)**"
      ]
    },
    {
      "cell_type": "code",
      "metadata": {
        "id": "d9XEycFUv991"
      },
      "source": [
        "%%capture\n",
        "!wget -O heart_disease.csv \\\n",
        "    https://raw.githubusercontent.com/tackulus/229352/main/dataset/heart_disease.csv"
      ],
      "execution_count": 1,
      "outputs": []
    },
    {
      "cell_type": "code",
      "metadata": {
        "id": "mjPKCT934JxC"
      },
      "source": [
        "import numpy as np\n",
        "import pandas as pd"
      ],
      "execution_count": 2,
      "outputs": []
    },
    {
      "cell_type": "code",
      "metadata": {
        "colab": {
          "base_uri": "https://localhost:8080/",
          "height": 206
        },
        "id": "kycezD_g4V3X",
        "outputId": "738048cd-6ee8-4f18-b8a9-46b4127ccf4a"
      },
      "source": [
        "data = pd.read_csv(\"heart_disease.csv\", na_values='?')\n",
        "data.head()"
      ],
      "execution_count": 3,
      "outputs": [
        {
          "output_type": "execute_result",
          "data": {
            "text/html": [
              "<div>\n",
              "<style scoped>\n",
              "    .dataframe tbody tr th:only-of-type {\n",
              "        vertical-align: middle;\n",
              "    }\n",
              "\n",
              "    .dataframe tbody tr th {\n",
              "        vertical-align: top;\n",
              "    }\n",
              "\n",
              "    .dataframe thead th {\n",
              "        text-align: right;\n",
              "    }\n",
              "</style>\n",
              "<table border=\"1\" class=\"dataframe\">\n",
              "  <thead>\n",
              "    <tr style=\"text-align: right;\">\n",
              "      <th></th>\n",
              "      <th>age</th>\n",
              "      <th>sex</th>\n",
              "      <th>cp</th>\n",
              "      <th>trestbps</th>\n",
              "      <th>chol</th>\n",
              "      <th>fbs</th>\n",
              "      <th>restecg</th>\n",
              "      <th>thalach</th>\n",
              "      <th>exang</th>\n",
              "      <th>oldpeak</th>\n",
              "      <th>slope</th>\n",
              "      <th>ca</th>\n",
              "      <th>thal</th>\n",
              "      <th>label</th>\n",
              "    </tr>\n",
              "  </thead>\n",
              "  <tbody>\n",
              "    <tr>\n",
              "      <th>0</th>\n",
              "      <td>63</td>\n",
              "      <td>1</td>\n",
              "      <td>1</td>\n",
              "      <td>145</td>\n",
              "      <td>233</td>\n",
              "      <td>1</td>\n",
              "      <td>2</td>\n",
              "      <td>150</td>\n",
              "      <td>0</td>\n",
              "      <td>2.3</td>\n",
              "      <td>3</td>\n",
              "      <td>0.0</td>\n",
              "      <td>6.0</td>\n",
              "      <td>0</td>\n",
              "    </tr>\n",
              "    <tr>\n",
              "      <th>1</th>\n",
              "      <td>67</td>\n",
              "      <td>1</td>\n",
              "      <td>4</td>\n",
              "      <td>160</td>\n",
              "      <td>286</td>\n",
              "      <td>0</td>\n",
              "      <td>2</td>\n",
              "      <td>108</td>\n",
              "      <td>1</td>\n",
              "      <td>1.5</td>\n",
              "      <td>2</td>\n",
              "      <td>3.0</td>\n",
              "      <td>3.0</td>\n",
              "      <td>1</td>\n",
              "    </tr>\n",
              "    <tr>\n",
              "      <th>2</th>\n",
              "      <td>67</td>\n",
              "      <td>1</td>\n",
              "      <td>4</td>\n",
              "      <td>120</td>\n",
              "      <td>229</td>\n",
              "      <td>0</td>\n",
              "      <td>2</td>\n",
              "      <td>129</td>\n",
              "      <td>1</td>\n",
              "      <td>2.6</td>\n",
              "      <td>2</td>\n",
              "      <td>2.0</td>\n",
              "      <td>7.0</td>\n",
              "      <td>1</td>\n",
              "    </tr>\n",
              "    <tr>\n",
              "      <th>3</th>\n",
              "      <td>37</td>\n",
              "      <td>1</td>\n",
              "      <td>3</td>\n",
              "      <td>130</td>\n",
              "      <td>250</td>\n",
              "      <td>0</td>\n",
              "      <td>0</td>\n",
              "      <td>187</td>\n",
              "      <td>0</td>\n",
              "      <td>3.5</td>\n",
              "      <td>3</td>\n",
              "      <td>0.0</td>\n",
              "      <td>3.0</td>\n",
              "      <td>0</td>\n",
              "    </tr>\n",
              "    <tr>\n",
              "      <th>4</th>\n",
              "      <td>41</td>\n",
              "      <td>0</td>\n",
              "      <td>2</td>\n",
              "      <td>130</td>\n",
              "      <td>204</td>\n",
              "      <td>0</td>\n",
              "      <td>2</td>\n",
              "      <td>172</td>\n",
              "      <td>0</td>\n",
              "      <td>1.4</td>\n",
              "      <td>1</td>\n",
              "      <td>0.0</td>\n",
              "      <td>3.0</td>\n",
              "      <td>0</td>\n",
              "    </tr>\n",
              "  </tbody>\n",
              "</table>\n",
              "</div>"
            ],
            "text/plain": [
              "   age  sex  cp  trestbps  chol  fbs  ...  exang  oldpeak  slope   ca  thal  label\n",
              "0   63    1   1       145   233    1  ...      0      2.3      3  0.0   6.0      0\n",
              "1   67    1   4       160   286    0  ...      1      1.5      2  3.0   3.0      1\n",
              "2   67    1   4       120   229    0  ...      1      2.6      2  2.0   7.0      1\n",
              "3   37    1   3       130   250    0  ...      0      3.5      3  0.0   3.0      0\n",
              "4   41    0   2       130   204    0  ...      0      1.4      1  0.0   3.0      0\n",
              "\n",
              "[5 rows x 14 columns]"
            ]
          },
          "metadata": {
            "tags": []
          },
          "execution_count": 3
        }
      ]
    },
    {
      "cell_type": "code",
      "metadata": {
        "colab": {
          "base_uri": "https://localhost:8080/"
        },
        "id": "3RDTExz74hxK",
        "outputId": "36cd8fc0-26b3-405b-994c-ce6109e46eb5"
      },
      "source": [
        "data.info()"
      ],
      "execution_count": 4,
      "outputs": [
        {
          "output_type": "stream",
          "text": [
            "<class 'pandas.core.frame.DataFrame'>\n",
            "RangeIndex: 303 entries, 0 to 302\n",
            "Data columns (total 14 columns):\n",
            " #   Column    Non-Null Count  Dtype  \n",
            "---  ------    --------------  -----  \n",
            " 0   age       303 non-null    int64  \n",
            " 1   sex       303 non-null    int64  \n",
            " 2   cp        303 non-null    int64  \n",
            " 3   trestbps  303 non-null    int64  \n",
            " 4   chol      303 non-null    int64  \n",
            " 5   fbs       303 non-null    int64  \n",
            " 6   restecg   303 non-null    int64  \n",
            " 7   thalach   303 non-null    int64  \n",
            " 8   exang     303 non-null    int64  \n",
            " 9   oldpeak   303 non-null    float64\n",
            " 10  slope     303 non-null    int64  \n",
            " 11  ca        299 non-null    float64\n",
            " 12  thal      301 non-null    float64\n",
            " 13  label     303 non-null    int64  \n",
            "dtypes: float64(3), int64(11)\n",
            "memory usage: 33.3 KB\n"
          ],
          "name": "stdout"
        }
      ]
    },
    {
      "cell_type": "markdown",
      "metadata": {
        "id": "msctGb8o7lKv"
      },
      "source": [
        "**1. Use any method to deal with the missing data. Then split the data into a training set and a test set.**"
      ]
    },
    {
      "cell_type": "code",
      "metadata": {
        "id": "avzaggq06i0K"
      },
      "source": [
        "data.dropna(inplace=True)"
      ],
      "execution_count": 5,
      "outputs": []
    },
    {
      "cell_type": "code",
      "metadata": {
        "id": "vHKZ84kbOhlN"
      },
      "source": [
        "cols = [\"cp\", \"restecg\", \"slope\", \"thal\"]\n",
        "data = pd.get_dummies(data, columns=cols)"
      ],
      "execution_count": 6,
      "outputs": []
    },
    {
      "cell_type": "code",
      "metadata": {
        "id": "HaDzFmY16oYw"
      },
      "source": [
        "from sklearn.model_selection import train_test_split\n",
        "\n",
        "X = data.loc[ :, data.columns != \"label\" ]\n",
        "y = data.label\n",
        "X_train, X_test, y_train, y_test \\\n",
        "    = train_test_split(X, y, test_size=0.20, random_state=0)"
      ],
      "execution_count": 7,
      "outputs": []
    },
    {
      "cell_type": "markdown",
      "metadata": {
        "id": "so2cnmTm98BL"
      },
      "source": [
        "**2. Apply a grid search or a random search via cross-validation on the training set to find the best criterion\n",
        "for node’s purity (gini index or entropy) and the optimal value of pruning hyperparameter α. You can\n",
        "also include some other hyperparameters (tree’s depth, minimum number of samples in each leaf etc.)\n",
        "if you want.**\n",
        "\n",
        "**Note: Try small values of α—it should be somewhere between 0.0001 to 0.1 .**"
      ]
    },
    {
      "cell_type": "code",
      "metadata": {
        "colab": {
          "base_uri": "https://localhost:8080/"
        },
        "id": "mi_eG0pW97JO",
        "outputId": "703bab78-9e35-4dc3-dc14-70fbf9ae1782"
      },
      "source": [
        "from sklearn.tree import DecisionTreeClassifier\n",
        "from sklearn.model_selection import GridSearchCV\n",
        "\n",
        "model = DecisionTreeClassifier()\n",
        "params = {\n",
        "    \"criterion\": [\"gini\", \"entropy\"],\n",
        "    \"ccp_alpha\": np.arange(0.0000, 0.1, 0.0001),\n",
        "    \"max_depth\": range(2, 6)\n",
        "}\n",
        "\n",
        "clf = GridSearchCV(model, params, cv=10)\n",
        "clf.fit(X_train,y_train)\n",
        "clf.best_params_"
      ],
      "execution_count": 8,
      "outputs": [
        {
          "output_type": "execute_result",
          "data": {
            "text/plain": [
              "{'ccp_alpha': 0.0, 'criterion': 'entropy', 'max_depth': 3}"
            ]
          },
          "metadata": {
            "tags": []
          },
          "execution_count": 8
        }
      ]
    },
    {
      "cell_type": "markdown",
      "metadata": {
        "id": "WiX7AznOBPE7"
      },
      "source": [
        "**3. Plot the tree model that you just obtained. Report all the features used in the classification. What is\n",
        "the most important feature that indicates that a patient has a heart disease?**"
      ]
    },
    {
      "cell_type": "code",
      "metadata": {
        "colab": {
          "base_uri": "https://localhost:8080/",
          "height": 538
        },
        "id": "NBJ8E2DYAdSH",
        "outputId": "1f0801da-0fbb-4af3-a8fe-de400a3c27e9"
      },
      "source": [
        "from sklearn.tree import export_graphviz\n",
        "import graphviz\n",
        "\n",
        "dot_data = export_graphviz(clf.best_estimator_, \n",
        "                           feature_names=X.columns,  \n",
        "                           class_names= ['0', '1'], \n",
        "                           filled=True,\n",
        "                           impurity=False)\n",
        "\n",
        "graph = graphviz.Source(dot_data,format=\"png\") \n",
        "graph"
      ],
      "execution_count": 12,
      "outputs": [
        {
          "output_type": "execute_result",
          "data": {
            "text/plain": [
              "<graphviz.files.Source at 0x7ff03d0ee690>"
            ],
            "image/svg+xml": "<?xml version=\"1.0\" encoding=\"UTF-8\" standalone=\"no\"?>\n<!DOCTYPE svg PUBLIC \"-//W3C//DTD SVG 1.1//EN\"\n \"http://www.w3.org/Graphics/SVG/1.1/DTD/svg11.dtd\">\n<!-- Generated by graphviz version 2.40.1 (20161225.0304)\n -->\n<!-- Title: Tree Pages: 1 -->\n<svg width=\"952pt\" height=\"373pt\"\n viewBox=\"0.00 0.00 951.50 373.00\" xmlns=\"http://www.w3.org/2000/svg\" xmlns:xlink=\"http://www.w3.org/1999/xlink\">\n<g id=\"graph0\" class=\"graph\" transform=\"scale(1 1) rotate(0) translate(4 369)\">\n<title>Tree</title>\n<polygon fill=\"#ffffff\" stroke=\"transparent\" points=\"-4,4 -4,-369 947.5,-369 947.5,4 -4,4\"/>\n<!-- 0 -->\n<g id=\"node1\" class=\"node\">\n<title>0</title>\n<polygon fill=\"#fae9dc\" stroke=\"#000000\" points=\"528,-365 403,-365 403,-297 528,-297 528,-365\"/>\n<text text-anchor=\"middle\" x=\"465.5\" y=\"-349.8\" font-family=\"Times,serif\" font-size=\"14.00\" fill=\"#000000\">cp_4 &lt;= 0.5</text>\n<text text-anchor=\"middle\" x=\"465.5\" y=\"-334.8\" font-family=\"Times,serif\" font-size=\"14.00\" fill=\"#000000\">samples = 237</text>\n<text text-anchor=\"middle\" x=\"465.5\" y=\"-319.8\" font-family=\"Times,serif\" font-size=\"14.00\" fill=\"#000000\">value = [130, 107]</text>\n<text text-anchor=\"middle\" x=\"465.5\" y=\"-304.8\" font-family=\"Times,serif\" font-size=\"14.00\" fill=\"#000000\">class = 0</text>\n</g>\n<!-- 1 -->\n<g id=\"node2\" class=\"node\">\n<title>1</title>\n<polygon fill=\"#eb9d65\" stroke=\"#000000\" points=\"410,-261 293,-261 293,-193 410,-193 410,-261\"/>\n<text text-anchor=\"middle\" x=\"351.5\" y=\"-245.8\" font-family=\"Times,serif\" font-size=\"14.00\" fill=\"#000000\">thal_3.0 &lt;= 0.5</text>\n<text text-anchor=\"middle\" x=\"351.5\" y=\"-230.8\" font-family=\"Times,serif\" font-size=\"14.00\" fill=\"#000000\">samples = 122</text>\n<text text-anchor=\"middle\" x=\"351.5\" y=\"-215.8\" font-family=\"Times,serif\" font-size=\"14.00\" fill=\"#000000\">value = [100, 22]</text>\n<text text-anchor=\"middle\" x=\"351.5\" y=\"-200.8\" font-family=\"Times,serif\" font-size=\"14.00\" fill=\"#000000\">class = 0</text>\n</g>\n<!-- 0&#45;&gt;1 -->\n<g id=\"edge1\" class=\"edge\">\n<title>0&#45;&gt;1</title>\n<path fill=\"none\" stroke=\"#000000\" d=\"M428.1721,-296.9465C418.035,-287.6986 406.9517,-277.5876 396.4417,-267.9994\"/>\n<polygon fill=\"#000000\" stroke=\"#000000\" points=\"398.6583,-265.284 388.9117,-261.13 393.9405,-270.4553 398.6583,-265.284\"/>\n<text text-anchor=\"middle\" x=\"390.0573\" y=\"-282.4037\" font-family=\"Times,serif\" font-size=\"14.00\" fill=\"#000000\">True</text>\n</g>\n<!-- 8 -->\n<g id=\"node9\" class=\"node\">\n<title>8</title>\n<polygon fill=\"#7fc0ee\" stroke=\"#000000\" points=\"642.5,-261 532.5,-261 532.5,-193 642.5,-193 642.5,-261\"/>\n<text text-anchor=\"middle\" x=\"587.5\" y=\"-245.8\" font-family=\"Times,serif\" font-size=\"14.00\" fill=\"#000000\">ca &lt;= 0.5</text>\n<text text-anchor=\"middle\" x=\"587.5\" y=\"-230.8\" font-family=\"Times,serif\" font-size=\"14.00\" fill=\"#000000\">samples = 115</text>\n<text text-anchor=\"middle\" x=\"587.5\" y=\"-215.8\" font-family=\"Times,serif\" font-size=\"14.00\" fill=\"#000000\">value = [30, 85]</text>\n<text text-anchor=\"middle\" x=\"587.5\" y=\"-200.8\" font-family=\"Times,serif\" font-size=\"14.00\" fill=\"#000000\">class = 1</text>\n</g>\n<!-- 0&#45;&gt;8 -->\n<g id=\"edge8\" class=\"edge\">\n<title>0&#45;&gt;8</title>\n<path fill=\"none\" stroke=\"#000000\" d=\"M505.4474,-296.9465C516.4012,-287.6088 528.3873,-277.3911 539.732,-267.7203\"/>\n<polygon fill=\"#000000\" stroke=\"#000000\" points=\"542.1233,-270.2809 547.4629,-261.13 537.5821,-264.9538 542.1233,-270.2809\"/>\n<text text-anchor=\"middle\" x=\"545.478\" y=\"-282.3511\" font-family=\"Times,serif\" font-size=\"14.00\" fill=\"#000000\">False</text>\n</g>\n<!-- 2 -->\n<g id=\"node3\" class=\"node\">\n<title>2</title>\n<polygon fill=\"#f6d5bd\" stroke=\"#000000\" points=\"226,-157 111,-157 111,-89 226,-89 226,-157\"/>\n<text text-anchor=\"middle\" x=\"168.5\" y=\"-141.8\" font-family=\"Times,serif\" font-size=\"14.00\" fill=\"#000000\">thalach &lt;= 131.5</text>\n<text text-anchor=\"middle\" x=\"168.5\" y=\"-126.8\" font-family=\"Times,serif\" font-size=\"14.00\" fill=\"#000000\">samples = 35</text>\n<text text-anchor=\"middle\" x=\"168.5\" y=\"-111.8\" font-family=\"Times,serif\" font-size=\"14.00\" fill=\"#000000\">value = [21, 14]</text>\n<text text-anchor=\"middle\" x=\"168.5\" y=\"-96.8\" font-family=\"Times,serif\" font-size=\"14.00\" fill=\"#000000\">class = 0</text>\n</g>\n<!-- 1&#45;&gt;2 -->\n<g id=\"edge2\" class=\"edge\">\n<title>1&#45;&gt;2</title>\n<path fill=\"none\" stroke=\"#000000\" d=\"M292.8426,-193.6646C274.4313,-183.2014 253.9745,-171.5757 235.0577,-160.8252\"/>\n<polygon fill=\"#000000\" stroke=\"#000000\" points=\"236.6237,-157.6894 226.2002,-155.7914 233.165,-163.7753 236.6237,-157.6894\"/>\n</g>\n<!-- 5 -->\n<g id=\"node6\" class=\"node\">\n<title>5</title>\n<polygon fill=\"#e88e4d\" stroke=\"#000000\" points=\"410.5,-157 292.5,-157 292.5,-89 410.5,-89 410.5,-157\"/>\n<text text-anchor=\"middle\" x=\"351.5\" y=\"-141.8\" font-family=\"Times,serif\" font-size=\"14.00\" fill=\"#000000\">trestbps &lt;= 133.0</text>\n<text text-anchor=\"middle\" x=\"351.5\" y=\"-126.8\" font-family=\"Times,serif\" font-size=\"14.00\" fill=\"#000000\">samples = 87</text>\n<text text-anchor=\"middle\" x=\"351.5\" y=\"-111.8\" font-family=\"Times,serif\" font-size=\"14.00\" fill=\"#000000\">value = [79, 8]</text>\n<text text-anchor=\"middle\" x=\"351.5\" y=\"-96.8\" font-family=\"Times,serif\" font-size=\"14.00\" fill=\"#000000\">class = 0</text>\n</g>\n<!-- 1&#45;&gt;5 -->\n<g id=\"edge5\" class=\"edge\">\n<title>1&#45;&gt;5</title>\n<path fill=\"none\" stroke=\"#000000\" d=\"M351.5,-192.9465C351.5,-184.776 351.5,-175.9318 351.5,-167.3697\"/>\n<polygon fill=\"#000000\" stroke=\"#000000\" points=\"355.0001,-167.13 351.5,-157.13 348.0001,-167.13 355.0001,-167.13\"/>\n</g>\n<!-- 3 -->\n<g id=\"node4\" class=\"node\">\n<title>3</title>\n<polygon fill=\"#399de5\" stroke=\"#000000\" points=\"95,-53 0,-53 0,0 95,0 95,-53\"/>\n<text text-anchor=\"middle\" x=\"47.5\" y=\"-37.8\" font-family=\"Times,serif\" font-size=\"14.00\" fill=\"#000000\">samples = 4</text>\n<text text-anchor=\"middle\" x=\"47.5\" y=\"-22.8\" font-family=\"Times,serif\" font-size=\"14.00\" fill=\"#000000\">value = [0, 4]</text>\n<text text-anchor=\"middle\" x=\"47.5\" y=\"-7.8\" font-family=\"Times,serif\" font-size=\"14.00\" fill=\"#000000\">class = 1</text>\n</g>\n<!-- 2&#45;&gt;3 -->\n<g id=\"edge3\" class=\"edge\">\n<title>2&#45;&gt;3</title>\n<path fill=\"none\" stroke=\"#000000\" d=\"M125.8399,-88.9777C113.8989,-79.4545 100.9395,-69.1191 89.063,-59.6473\"/>\n<polygon fill=\"#000000\" stroke=\"#000000\" points=\"91.04,-56.7473 81.0395,-53.2485 86.6754,-62.22 91.04,-56.7473\"/>\n</g>\n<!-- 4 -->\n<g id=\"node5\" class=\"node\">\n<title>4</title>\n<polygon fill=\"#f1bd97\" stroke=\"#000000\" points=\"223.5,-53 113.5,-53 113.5,0 223.5,0 223.5,-53\"/>\n<text text-anchor=\"middle\" x=\"168.5\" y=\"-37.8\" font-family=\"Times,serif\" font-size=\"14.00\" fill=\"#000000\">samples = 31</text>\n<text text-anchor=\"middle\" x=\"168.5\" y=\"-22.8\" font-family=\"Times,serif\" font-size=\"14.00\" fill=\"#000000\">value = [21, 10]</text>\n<text text-anchor=\"middle\" x=\"168.5\" y=\"-7.8\" font-family=\"Times,serif\" font-size=\"14.00\" fill=\"#000000\">class = 0</text>\n</g>\n<!-- 2&#45;&gt;4 -->\n<g id=\"edge4\" class=\"edge\">\n<title>2&#45;&gt;4</title>\n<path fill=\"none\" stroke=\"#000000\" d=\"M168.5,-88.9777C168.5,-80.7364 168.5,-71.887 168.5,-63.5153\"/>\n<polygon fill=\"#000000\" stroke=\"#000000\" points=\"172.0001,-63.2484 168.5,-53.2485 165.0001,-63.2485 172.0001,-63.2484\"/>\n</g>\n<!-- 6 -->\n<g id=\"node7\" class=\"node\">\n<title>6</title>\n<polygon fill=\"#e6833d\" stroke=\"#000000\" points=\"343.5,-53 241.5,-53 241.5,0 343.5,0 343.5,-53\"/>\n<text text-anchor=\"middle\" x=\"292.5\" y=\"-37.8\" font-family=\"Times,serif\" font-size=\"14.00\" fill=\"#000000\">samples = 52</text>\n<text text-anchor=\"middle\" x=\"292.5\" y=\"-22.8\" font-family=\"Times,serif\" font-size=\"14.00\" fill=\"#000000\">value = [51, 1]</text>\n<text text-anchor=\"middle\" x=\"292.5\" y=\"-7.8\" font-family=\"Times,serif\" font-size=\"14.00\" fill=\"#000000\">class = 0</text>\n</g>\n<!-- 5&#45;&gt;6 -->\n<g id=\"edge6\" class=\"edge\">\n<title>5&#45;&gt;6</title>\n<path fill=\"none\" stroke=\"#000000\" d=\"M330.6988,-88.9777C325.3242,-80.187 319.5265,-70.7044 314.1115,-61.8477\"/>\n<polygon fill=\"#000000\" stroke=\"#000000\" points=\"317.0564,-59.9545 308.854,-53.2485 311.0842,-63.6059 317.0564,-59.9545\"/>\n</g>\n<!-- 7 -->\n<g id=\"node8\" class=\"node\">\n<title>7</title>\n<polygon fill=\"#eca06a\" stroke=\"#000000\" points=\"463.5,-53 361.5,-53 361.5,0 463.5,0 463.5,-53\"/>\n<text text-anchor=\"middle\" x=\"412.5\" y=\"-37.8\" font-family=\"Times,serif\" font-size=\"14.00\" fill=\"#000000\">samples = 35</text>\n<text text-anchor=\"middle\" x=\"412.5\" y=\"-22.8\" font-family=\"Times,serif\" font-size=\"14.00\" fill=\"#000000\">value = [28, 7]</text>\n<text text-anchor=\"middle\" x=\"412.5\" y=\"-7.8\" font-family=\"Times,serif\" font-size=\"14.00\" fill=\"#000000\">class = 0</text>\n</g>\n<!-- 5&#45;&gt;7 -->\n<g id=\"edge7\" class=\"edge\">\n<title>5&#45;&gt;7</title>\n<path fill=\"none\" stroke=\"#000000\" d=\"M373.0063,-88.9777C378.5631,-80.187 384.5573,-70.7044 390.1559,-61.8477\"/>\n<polygon fill=\"#000000\" stroke=\"#000000\" points=\"393.2069,-63.5714 395.5916,-53.2485 387.2899,-59.8312 393.2069,-63.5714\"/>\n</g>\n<!-- 9 -->\n<g id=\"node10\" class=\"node\">\n<title>9</title>\n<polygon fill=\"#ebf5fc\" stroke=\"#000000\" points=\"642.5,-157 532.5,-157 532.5,-89 642.5,-89 642.5,-157\"/>\n<text text-anchor=\"middle\" x=\"587.5\" y=\"-141.8\" font-family=\"Times,serif\" font-size=\"14.00\" fill=\"#000000\">thal_3.0 &lt;= 0.5</text>\n<text text-anchor=\"middle\" x=\"587.5\" y=\"-126.8\" font-family=\"Times,serif\" font-size=\"14.00\" fill=\"#000000\">samples = 55</text>\n<text text-anchor=\"middle\" x=\"587.5\" y=\"-111.8\" font-family=\"Times,serif\" font-size=\"14.00\" fill=\"#000000\">value = [26, 29]</text>\n<text text-anchor=\"middle\" x=\"587.5\" y=\"-96.8\" font-family=\"Times,serif\" font-size=\"14.00\" fill=\"#000000\">class = 1</text>\n</g>\n<!-- 8&#45;&gt;9 -->\n<g id=\"edge9\" class=\"edge\">\n<title>8&#45;&gt;9</title>\n<path fill=\"none\" stroke=\"#000000\" d=\"M587.5,-192.9465C587.5,-184.776 587.5,-175.9318 587.5,-167.3697\"/>\n<polygon fill=\"#000000\" stroke=\"#000000\" points=\"591.0001,-167.13 587.5,-157.13 584.0001,-167.13 591.0001,-167.13\"/>\n</g>\n<!-- 12 -->\n<g id=\"node13\" class=\"node\">\n<title>12</title>\n<polygon fill=\"#47a4e7\" stroke=\"#000000\" points=\"829,-157 716,-157 716,-89 829,-89 829,-157\"/>\n<text text-anchor=\"middle\" x=\"772.5\" y=\"-141.8\" font-family=\"Times,serif\" font-size=\"14.00\" fill=\"#000000\">restecg_2 &lt;= 0.5</text>\n<text text-anchor=\"middle\" x=\"772.5\" y=\"-126.8\" font-family=\"Times,serif\" font-size=\"14.00\" fill=\"#000000\">samples = 60</text>\n<text text-anchor=\"middle\" x=\"772.5\" y=\"-111.8\" font-family=\"Times,serif\" font-size=\"14.00\" fill=\"#000000\">value = [4, 56]</text>\n<text text-anchor=\"middle\" x=\"772.5\" y=\"-96.8\" font-family=\"Times,serif\" font-size=\"14.00\" fill=\"#000000\">class = 1</text>\n</g>\n<!-- 8&#45;&gt;12 -->\n<g id=\"edge12\" class=\"edge\">\n<title>8&#45;&gt;12</title>\n<path fill=\"none\" stroke=\"#000000\" d=\"M642.5052,-196.0782C662.7287,-184.7092 685.8306,-171.7223 706.8946,-159.8809\"/>\n<polygon fill=\"#000000\" stroke=\"#000000\" points=\"708.7811,-162.8356 715.7829,-154.8842 705.3508,-156.7336 708.7811,-162.8356\"/>\n</g>\n<!-- 10 -->\n<g id=\"node11\" class=\"node\">\n<title>10</title>\n<polygon fill=\"#6fb8ec\" stroke=\"#000000\" points=\"583.5,-53 481.5,-53 481.5,0 583.5,0 583.5,-53\"/>\n<text text-anchor=\"middle\" x=\"532.5\" y=\"-37.8\" font-family=\"Times,serif\" font-size=\"14.00\" fill=\"#000000\">samples = 28</text>\n<text text-anchor=\"middle\" x=\"532.5\" y=\"-22.8\" font-family=\"Times,serif\" font-size=\"14.00\" fill=\"#000000\">value = [6, 22]</text>\n<text text-anchor=\"middle\" x=\"532.5\" y=\"-7.8\" font-family=\"Times,serif\" font-size=\"14.00\" fill=\"#000000\">class = 1</text>\n</g>\n<!-- 9&#45;&gt;10 -->\n<g id=\"edge10\" class=\"edge\">\n<title>9&#45;&gt;10</title>\n<path fill=\"none\" stroke=\"#000000\" d=\"M568.1091,-88.9777C563.151,-80.2786 557.8067,-70.9018 552.8042,-62.1247\"/>\n<polygon fill=\"#000000\" stroke=\"#000000\" points=\"555.7378,-60.2033 547.7452,-53.2485 549.6562,-63.6696 555.7378,-60.2033\"/>\n</g>\n<!-- 11 -->\n<g id=\"node12\" class=\"node\">\n<title>11</title>\n<polygon fill=\"#eead7e\" stroke=\"#000000\" points=\"703.5,-53 601.5,-53 601.5,0 703.5,0 703.5,-53\"/>\n<text text-anchor=\"middle\" x=\"652.5\" y=\"-37.8\" font-family=\"Times,serif\" font-size=\"14.00\" fill=\"#000000\">samples = 27</text>\n<text text-anchor=\"middle\" x=\"652.5\" y=\"-22.8\" font-family=\"Times,serif\" font-size=\"14.00\" fill=\"#000000\">value = [20, 7]</text>\n<text text-anchor=\"middle\" x=\"652.5\" y=\"-7.8\" font-family=\"Times,serif\" font-size=\"14.00\" fill=\"#000000\">class = 0</text>\n</g>\n<!-- 9&#45;&gt;11 -->\n<g id=\"edge11\" class=\"edge\">\n<title>9&#45;&gt;11</title>\n<path fill=\"none\" stroke=\"#000000\" d=\"M610.4166,-88.9777C616.3994,-80.0954 622.8582,-70.5067 628.877,-61.5711\"/>\n<polygon fill=\"#000000\" stroke=\"#000000\" points=\"631.7991,-63.4978 634.4829,-53.2485 625.9933,-59.5871 631.7991,-63.4978\"/>\n</g>\n<!-- 13 -->\n<g id=\"node14\" class=\"node\">\n<title>13</title>\n<polygon fill=\"#61b1ea\" stroke=\"#000000\" points=\"823.5,-53 721.5,-53 721.5,0 823.5,0 823.5,-53\"/>\n<text text-anchor=\"middle\" x=\"772.5\" y=\"-37.8\" font-family=\"Times,serif\" font-size=\"14.00\" fill=\"#000000\">samples = 24</text>\n<text text-anchor=\"middle\" x=\"772.5\" y=\"-22.8\" font-family=\"Times,serif\" font-size=\"14.00\" fill=\"#000000\">value = [4, 20]</text>\n<text text-anchor=\"middle\" x=\"772.5\" y=\"-7.8\" font-family=\"Times,serif\" font-size=\"14.00\" fill=\"#000000\">class = 1</text>\n</g>\n<!-- 12&#45;&gt;13 -->\n<g id=\"edge13\" class=\"edge\">\n<title>12&#45;&gt;13</title>\n<path fill=\"none\" stroke=\"#000000\" d=\"M772.5,-88.9777C772.5,-80.7364 772.5,-71.887 772.5,-63.5153\"/>\n<polygon fill=\"#000000\" stroke=\"#000000\" points=\"776.0001,-63.2484 772.5,-53.2485 769.0001,-63.2485 776.0001,-63.2484\"/>\n</g>\n<!-- 14 -->\n<g id=\"node15\" class=\"node\">\n<title>14</title>\n<polygon fill=\"#399de5\" stroke=\"#000000\" points=\"943.5,-53 841.5,-53 841.5,0 943.5,0 943.5,-53\"/>\n<text text-anchor=\"middle\" x=\"892.5\" y=\"-37.8\" font-family=\"Times,serif\" font-size=\"14.00\" fill=\"#000000\">samples = 36</text>\n<text text-anchor=\"middle\" x=\"892.5\" y=\"-22.8\" font-family=\"Times,serif\" font-size=\"14.00\" fill=\"#000000\">value = [0, 36]</text>\n<text text-anchor=\"middle\" x=\"892.5\" y=\"-7.8\" font-family=\"Times,serif\" font-size=\"14.00\" fill=\"#000000\">class = 1</text>\n</g>\n<!-- 12&#45;&gt;14 -->\n<g id=\"edge14\" class=\"edge\">\n<title>12&#45;&gt;14</title>\n<path fill=\"none\" stroke=\"#000000\" d=\"M814.8075,-88.9777C826.6499,-79.4545 839.5021,-69.1191 851.2805,-59.6473\"/>\n<polygon fill=\"#000000\" stroke=\"#000000\" points=\"853.6382,-62.2427 859.2376,-53.2485 849.2514,-56.7877 853.6382,-62.2427\"/>\n</g>\n</g>\n</svg>\n"
          },
          "metadata": {
            "tags": []
          },
          "execution_count": 12
        }
      ]
    },
    {
      "cell_type": "markdown",
      "metadata": {
        "id": "Fk4hMh81KDrU"
      },
      "source": [
        "> The most important feature that indicates that a patient has a heart disease is **asymptomatic chest pain (cp=4)**."
      ]
    },
    {
      "cell_type": "markdown",
      "metadata": {
        "id": "kdcwIM--cMYj"
      },
      "source": [
        "**4. Report the accuracy (and possibly any other classification scores) of your predictions on the test set.**"
      ]
    },
    {
      "cell_type": "code",
      "metadata": {
        "colab": {
          "base_uri": "https://localhost:8080/"
        },
        "id": "QIyW73LQgyeL",
        "outputId": "6fe49eb4-86f0-409b-9ddb-f433d0c748a4"
      },
      "source": [
        "from sklearn.metrics import classification_report as clf_report\n",
        "\n",
        "print(clf_report(y_test, clf.predict(X_test)))"
      ],
      "execution_count": 10,
      "outputs": [
        {
          "output_type": "stream",
          "text": [
            "              precision    recall  f1-score   support\n",
            "\n",
            "           0       0.71      0.90      0.79        30\n",
            "           1       0.86      0.63      0.73        30\n",
            "\n",
            "    accuracy                           0.77        60\n",
            "   macro avg       0.79      0.77      0.76        60\n",
            "weighted avg       0.79      0.77      0.76        60\n",
            "\n"
          ],
          "name": "stdout"
        }
      ]
    },
    {
      "cell_type": "markdown",
      "metadata": {
        "id": "9P72JpW_pu0I"
      },
      "source": [
        "> Accuracy  = 77 % , Recall    = 86 % , Precision = 63 %"
      ]
    }
  ]
}